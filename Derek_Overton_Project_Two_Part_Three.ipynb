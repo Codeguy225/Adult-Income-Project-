{
  "nbformat": 4,
  "nbformat_minor": 0,
  "metadata": {
    "colab": {
      "provenance": [],
      "toc_visible": true,
      "authorship_tag": "ABX9TyPtjvfBgq4CL7u4Idx5JbGb",
      "include_colab_link": true
    },
    "kernelspec": {
      "name": "python3",
      "display_name": "Python 3"
    },
    "language_info": {
      "name": "python"
    }
  },
  "cells": [
    {
      "cell_type": "markdown",
      "metadata": {
        "id": "view-in-github",
        "colab_type": "text"
      },
      "source": [
        "<a href=\"https://colab.research.google.com/github/Codeguy225/Project-2/blob/main/Derek_Overton_Project_Two_Part_Three.ipynb\" target=\"_parent\"><img src=\"https://colab.research.google.com/assets/colab-badge.svg\" alt=\"Open In Colab\"/></a>"
      ]
    },
    {
      "cell_type": "markdown",
      "source": [
        "# **Adult Income**"
      ],
      "metadata": {
        "id": "oobyEvpIFrS-"
      }
    },
    {
      "cell_type": "markdown",
      "source": [
        "**Name:** **Derek Overton**\n",
        "\n",
        "**Date:** **1/25/2023**\n",
        "\n",
        "**Assignment:** **Project 2 Part 3**"
      ],
      "metadata": {
        "id": "TEwsRD4WGXmB"
      }
    },
    {
      "cell_type": "markdown",
      "source": [
        "# **Assignment Part 2:**\n",
        "Using the approved dataset you proposed for project 2 part 1 last week, you will clean and explore the data set.\n",
        "\n",
        "To meet the requirements for this week you must have:\n",
        "\n",
        "- Deleted unnecessary columns.\n",
        "- Deleted duplicate rows.\n",
        "- Identified and addressed missing values.\n",
        "I- dentified and corrected inconsistencies in data for categorical values (i.e. Cat, cat, cats).\n",
        "- Produced univariate visuals for the target and all features.\n",
        "- Identified outliers.\n",
        "- Clearly commented all of your cleaning steps and described any decisions you made.\n",
        "\n",
        "Commit your file to your Github repository and submit the link below."
      ],
      "metadata": {
        "id": "ScMGrbj7GsW-"
      }
    },
    {
      "cell_type": "markdown",
      "source": [
        "#**Assignment Part 3:**\n",
        "\n",
        "**Note: You are not clustering your data for this assignment.**\n",
        "- For this part of the project, you will continue your data exploration by:\n",
        " - Identifying any moderate or strong correlations between your target and your features and/or between one feature and another using a correlation heatmap.\n",
        " - Creating multivariate (multiple variables) exploratory visualizations to further understand your data and search for trends.\n",
        "- Then, choose two visualizations from your analysis that demonstrate key trends you found that will be of interest to a stakeholder. These visuals should be reporting quality with titles, labels, and a short explanation of the trend. Be sure to explain in a text cell the finding associated with each visual. Both of these visualizations should be easily understood by a non-technical audience (Neither should be histograms, boxplots, or correlation plots).\n",
        "\n",
        "Please submit the link to your GitHub Repository."
      ],
      "metadata": {
        "id": "lf00ft0d5S0O"
      }
    },
    {
      "cell_type": "markdown",
      "source": [
        "##**Peliminary**"
      ],
      "metadata": {
        "id": "GG3RjNESIstc"
      }
    },
    {
      "cell_type": "markdown",
      "source": [
        "###Import Libaries"
      ],
      "metadata": {
        "id": "SLWlD2f4JABb"
      }
    },
    {
      "cell_type": "code",
      "source": [
        "import numpy as np\n",
        "import pandas as pd\n",
        "import seaborn as sns\n",
        "import matplotlib.pyplot as plt\n",
        "import matplotlib.pyplot as plt\n",
        "%matplotlib inline\n",
        "import warnings\n",
        "warnings.filterwarnings(\"ignore\")\n",
        "from scipy.stats import ttest_ind, ttest_rel\n",
        "from scipy import stats\n",
        "\n",
        "from sklearn import tree\n",
        "from sklearn.model_selection import train_test_split\n",
        "from sklearn.tree import DecisionTreeClassifier\n",
        "from sklearn.ensemble import RandomForestClassifier\n",
        "from sklearn.model_selection import train_test_split, GridSearchCV\n",
        "from sklearn.metrics import accuracy_score, f1_score, confusion_matrix, roc_auc_score, roc_curve\n",
        "from pandas_profiling import ProfileReport\n",
        "import sklearn.metrics as metrics\n",
        "\n",
        "from sklearn.pipeline import Pipeline, make_pipeline\n",
        "from sklearn.impute import SimpleImputer\n",
        "from sklearn.compose import ColumnTransformer\n",
        "from sklearn.preprocessing import OrdinalEncoder\n",
        "from sklearn.preprocessing import OneHotEncoder\n",
        "from sklearn import preprocessing\n",
        "\n",
        "from sklearn import set_config\n",
        "set_config(display = 'diagram')"
      ],
      "metadata": {
        "id": "wn9YJR_SJFdH"
      },
      "execution_count": 129,
      "outputs": []
    },
    {
      "cell_type": "markdown",
      "source": [
        "## **1. Load and inspect the data**"
      ],
      "metadata": {
        "id": "P4ZY_fcMMRfQ"
      }
    },
    {
      "cell_type": "markdown",
      "source": [
        "### **Mount and Load the Data**"
      ],
      "metadata": {
        "id": "NkbDewADH1C-"
      }
    },
    {
      "cell_type": "code",
      "source": [
        "# Mount Drive\n",
        "from google.colab import drive \n",
        "drive.mount('/content/drive/')"
      ],
      "metadata": {
        "colab": {
          "base_uri": "https://localhost:8080/"
        },
        "id": "n8HaoCTtIIOT",
        "outputId": "5d93b089-1242-47ae-cd90-66a5d84ffa1f"
      },
      "execution_count": 130,
      "outputs": [
        {
          "output_type": "stream",
          "name": "stdout",
          "text": [
            "Drive already mounted at /content/drive/; to attempt to forcibly remount, call drive.mount(\"/content/drive/\", force_remount=True).\n"
          ]
        }
      ]
    },
    {
      "cell_type": "code",
      "source": [
        "#Load Data \n",
        "df = pd.read_csv('/content/drive/MyDrive/Coding Dojo/Stack 2/Week 3 /DATA/Adult Income.csv')"
      ],
      "metadata": {
        "id": "fIs1XBt2JddX"
      },
      "execution_count": 131,
      "outputs": []
    },
    {
      "cell_type": "markdown",
      "source": [
        "### **Inspect the Data**"
      ],
      "metadata": {
        "id": "b9MUy1aHKYP9"
      }
    },
    {
      "cell_type": "code",
      "source": [
        "# Review Data Information\n",
        "df.head()"
      ],
      "metadata": {
        "colab": {
          "base_uri": "https://localhost:8080/",
          "height": 206
        },
        "id": "HQuyTQhSKhPo",
        "outputId": "3923a62c-0251-4715-b2ac-048d08f31574"
      },
      "execution_count": 132,
      "outputs": [
        {
          "output_type": "execute_result",
          "data": {
            "text/plain": [
              "   age  workclass  fnlwgt     education  educational-num      marital-status  \\\n",
              "0   25    Private  226802          11th                7       Never-married   \n",
              "1   38    Private   89814       HS-grad                9  Married-civ-spouse   \n",
              "2   28  Local-gov  336951    Assoc-acdm               12  Married-civ-spouse   \n",
              "3   44    Private  160323  Some-college               10  Married-civ-spouse   \n",
              "4   18          ?  103497  Some-college               10       Never-married   \n",
              "\n",
              "          occupation relationship   race  gender  capital-gain  capital-loss  \\\n",
              "0  Machine-op-inspct    Own-child  Black    Male             0             0   \n",
              "1    Farming-fishing      Husband  White    Male             0             0   \n",
              "2    Protective-serv      Husband  White    Male             0             0   \n",
              "3  Machine-op-inspct      Husband  Black    Male          7688             0   \n",
              "4                  ?    Own-child  White  Female             0             0   \n",
              "\n",
              "   hours-per-week native-country income  \n",
              "0              40  United-States  <=50K  \n",
              "1              50  United-States  <=50K  \n",
              "2              40  United-States   >50K  \n",
              "3              40  United-States   >50K  \n",
              "4              30  United-States  <=50K  "
            ],
            "text/html": [
              "\n",
              "  <div id=\"df-b24e57a9-e393-4f35-a5f6-6ef10c87ad55\">\n",
              "    <div class=\"colab-df-container\">\n",
              "      <div>\n",
              "<style scoped>\n",
              "    .dataframe tbody tr th:only-of-type {\n",
              "        vertical-align: middle;\n",
              "    }\n",
              "\n",
              "    .dataframe tbody tr th {\n",
              "        vertical-align: top;\n",
              "    }\n",
              "\n",
              "    .dataframe thead th {\n",
              "        text-align: right;\n",
              "    }\n",
              "</style>\n",
              "<table border=\"1\" class=\"dataframe\">\n",
              "  <thead>\n",
              "    <tr style=\"text-align: right;\">\n",
              "      <th></th>\n",
              "      <th>age</th>\n",
              "      <th>workclass</th>\n",
              "      <th>fnlwgt</th>\n",
              "      <th>education</th>\n",
              "      <th>educational-num</th>\n",
              "      <th>marital-status</th>\n",
              "      <th>occupation</th>\n",
              "      <th>relationship</th>\n",
              "      <th>race</th>\n",
              "      <th>gender</th>\n",
              "      <th>capital-gain</th>\n",
              "      <th>capital-loss</th>\n",
              "      <th>hours-per-week</th>\n",
              "      <th>native-country</th>\n",
              "      <th>income</th>\n",
              "    </tr>\n",
              "  </thead>\n",
              "  <tbody>\n",
              "    <tr>\n",
              "      <th>0</th>\n",
              "      <td>25</td>\n",
              "      <td>Private</td>\n",
              "      <td>226802</td>\n",
              "      <td>11th</td>\n",
              "      <td>7</td>\n",
              "      <td>Never-married</td>\n",
              "      <td>Machine-op-inspct</td>\n",
              "      <td>Own-child</td>\n",
              "      <td>Black</td>\n",
              "      <td>Male</td>\n",
              "      <td>0</td>\n",
              "      <td>0</td>\n",
              "      <td>40</td>\n",
              "      <td>United-States</td>\n",
              "      <td>&lt;=50K</td>\n",
              "    </tr>\n",
              "    <tr>\n",
              "      <th>1</th>\n",
              "      <td>38</td>\n",
              "      <td>Private</td>\n",
              "      <td>89814</td>\n",
              "      <td>HS-grad</td>\n",
              "      <td>9</td>\n",
              "      <td>Married-civ-spouse</td>\n",
              "      <td>Farming-fishing</td>\n",
              "      <td>Husband</td>\n",
              "      <td>White</td>\n",
              "      <td>Male</td>\n",
              "      <td>0</td>\n",
              "      <td>0</td>\n",
              "      <td>50</td>\n",
              "      <td>United-States</td>\n",
              "      <td>&lt;=50K</td>\n",
              "    </tr>\n",
              "    <tr>\n",
              "      <th>2</th>\n",
              "      <td>28</td>\n",
              "      <td>Local-gov</td>\n",
              "      <td>336951</td>\n",
              "      <td>Assoc-acdm</td>\n",
              "      <td>12</td>\n",
              "      <td>Married-civ-spouse</td>\n",
              "      <td>Protective-serv</td>\n",
              "      <td>Husband</td>\n",
              "      <td>White</td>\n",
              "      <td>Male</td>\n",
              "      <td>0</td>\n",
              "      <td>0</td>\n",
              "      <td>40</td>\n",
              "      <td>United-States</td>\n",
              "      <td>&gt;50K</td>\n",
              "    </tr>\n",
              "    <tr>\n",
              "      <th>3</th>\n",
              "      <td>44</td>\n",
              "      <td>Private</td>\n",
              "      <td>160323</td>\n",
              "      <td>Some-college</td>\n",
              "      <td>10</td>\n",
              "      <td>Married-civ-spouse</td>\n",
              "      <td>Machine-op-inspct</td>\n",
              "      <td>Husband</td>\n",
              "      <td>Black</td>\n",
              "      <td>Male</td>\n",
              "      <td>7688</td>\n",
              "      <td>0</td>\n",
              "      <td>40</td>\n",
              "      <td>United-States</td>\n",
              "      <td>&gt;50K</td>\n",
              "    </tr>\n",
              "    <tr>\n",
              "      <th>4</th>\n",
              "      <td>18</td>\n",
              "      <td>?</td>\n",
              "      <td>103497</td>\n",
              "      <td>Some-college</td>\n",
              "      <td>10</td>\n",
              "      <td>Never-married</td>\n",
              "      <td>?</td>\n",
              "      <td>Own-child</td>\n",
              "      <td>White</td>\n",
              "      <td>Female</td>\n",
              "      <td>0</td>\n",
              "      <td>0</td>\n",
              "      <td>30</td>\n",
              "      <td>United-States</td>\n",
              "      <td>&lt;=50K</td>\n",
              "    </tr>\n",
              "  </tbody>\n",
              "</table>\n",
              "</div>\n",
              "      <button class=\"colab-df-convert\" onclick=\"convertToInteractive('df-b24e57a9-e393-4f35-a5f6-6ef10c87ad55')\"\n",
              "              title=\"Convert this dataframe to an interactive table.\"\n",
              "              style=\"display:none;\">\n",
              "        \n",
              "  <svg xmlns=\"http://www.w3.org/2000/svg\" height=\"24px\"viewBox=\"0 0 24 24\"\n",
              "       width=\"24px\">\n",
              "    <path d=\"M0 0h24v24H0V0z\" fill=\"none\"/>\n",
              "    <path d=\"M18.56 5.44l.94 2.06.94-2.06 2.06-.94-2.06-.94-.94-2.06-.94 2.06-2.06.94zm-11 1L8.5 8.5l.94-2.06 2.06-.94-2.06-.94L8.5 2.5l-.94 2.06-2.06.94zm10 10l.94 2.06.94-2.06 2.06-.94-2.06-.94-.94-2.06-.94 2.06-2.06.94z\"/><path d=\"M17.41 7.96l-1.37-1.37c-.4-.4-.92-.59-1.43-.59-.52 0-1.04.2-1.43.59L10.3 9.45l-7.72 7.72c-.78.78-.78 2.05 0 2.83L4 21.41c.39.39.9.59 1.41.59.51 0 1.02-.2 1.41-.59l7.78-7.78 2.81-2.81c.8-.78.8-2.07 0-2.86zM5.41 20L4 18.59l7.72-7.72 1.47 1.35L5.41 20z\"/>\n",
              "  </svg>\n",
              "      </button>\n",
              "      \n",
              "  <style>\n",
              "    .colab-df-container {\n",
              "      display:flex;\n",
              "      flex-wrap:wrap;\n",
              "      gap: 12px;\n",
              "    }\n",
              "\n",
              "    .colab-df-convert {\n",
              "      background-color: #E8F0FE;\n",
              "      border: none;\n",
              "      border-radius: 50%;\n",
              "      cursor: pointer;\n",
              "      display: none;\n",
              "      fill: #1967D2;\n",
              "      height: 32px;\n",
              "      padding: 0 0 0 0;\n",
              "      width: 32px;\n",
              "    }\n",
              "\n",
              "    .colab-df-convert:hover {\n",
              "      background-color: #E2EBFA;\n",
              "      box-shadow: 0px 1px 2px rgba(60, 64, 67, 0.3), 0px 1px 3px 1px rgba(60, 64, 67, 0.15);\n",
              "      fill: #174EA6;\n",
              "    }\n",
              "\n",
              "    [theme=dark] .colab-df-convert {\n",
              "      background-color: #3B4455;\n",
              "      fill: #D2E3FC;\n",
              "    }\n",
              "\n",
              "    [theme=dark] .colab-df-convert:hover {\n",
              "      background-color: #434B5C;\n",
              "      box-shadow: 0px 1px 3px 1px rgba(0, 0, 0, 0.15);\n",
              "      filter: drop-shadow(0px 1px 2px rgba(0, 0, 0, 0.3));\n",
              "      fill: #FFFFFF;\n",
              "    }\n",
              "  </style>\n",
              "\n",
              "      <script>\n",
              "        const buttonEl =\n",
              "          document.querySelector('#df-b24e57a9-e393-4f35-a5f6-6ef10c87ad55 button.colab-df-convert');\n",
              "        buttonEl.style.display =\n",
              "          google.colab.kernel.accessAllowed ? 'block' : 'none';\n",
              "\n",
              "        async function convertToInteractive(key) {\n",
              "          const element = document.querySelector('#df-b24e57a9-e393-4f35-a5f6-6ef10c87ad55');\n",
              "          const dataTable =\n",
              "            await google.colab.kernel.invokeFunction('convertToInteractive',\n",
              "                                                     [key], {});\n",
              "          if (!dataTable) return;\n",
              "\n",
              "          const docLinkHtml = 'Like what you see? Visit the ' +\n",
              "            '<a target=\"_blank\" href=https://colab.research.google.com/notebooks/data_table.ipynb>data table notebook</a>'\n",
              "            + ' to learn more about interactive tables.';\n",
              "          element.innerHTML = '';\n",
              "          dataTable['output_type'] = 'display_data';\n",
              "          await google.colab.output.renderOutput(dataTable, element);\n",
              "          const docLink = document.createElement('div');\n",
              "          docLink.innerHTML = docLinkHtml;\n",
              "          element.appendChild(docLink);\n",
              "        }\n",
              "      </script>\n",
              "    </div>\n",
              "  </div>\n",
              "  "
            ]
          },
          "metadata": {},
          "execution_count": 132
        }
      ]
    },
    {
      "cell_type": "markdown",
      "source": [
        "### **Set display Options** "
      ],
      "metadata": {
        "id": "jL7zyg0CK9it"
      }
    },
    {
      "cell_type": "code",
      "source": [
        "# Display the number of rows and columns for the dataframe\n",
        "df.shape\n",
        "print(f'There are {df.shape[0]} rows, and {df.shape[1]} columns.')\n",
        "print(f'The rows represent {df.shape[0]} observations, and the columns represent {df.shape[1]-1} features and 1 target variable.')"
      ],
      "metadata": {
        "colab": {
          "base_uri": "https://localhost:8080/"
        },
        "id": "3cFy3lCsLEoE",
        "outputId": "072f2e93-77ae-42b4-a5c4-0ca9fe78b5ea"
      },
      "execution_count": 133,
      "outputs": [
        {
          "output_type": "stream",
          "name": "stdout",
          "text": [
            "There are 48842 rows, and 15 columns.\n",
            "The rows represent 48842 observations, and the columns represent 14 features and 1 target variable.\n"
          ]
        }
      ]
    },
    {
      "cell_type": "code",
      "source": [
        "# Display the descriptive of all data\n",
        "df.describe(include = 'all')"
      ],
      "metadata": {
        "colab": {
          "base_uri": "https://localhost:8080/",
          "height": 473
        },
        "id": "bryNgkVfLLy2",
        "outputId": "0f7ab3f4-029d-4b99-d66f-4c4f2b43d3d9"
      },
      "execution_count": 134,
      "outputs": [
        {
          "output_type": "execute_result",
          "data": {
            "text/plain": [
              "                 age workclass        fnlwgt education  educational-num  \\\n",
              "count   48842.000000     48842  4.884200e+04     48842     48842.000000   \n",
              "unique           NaN         9           NaN        16              NaN   \n",
              "top              NaN   Private           NaN   HS-grad              NaN   \n",
              "freq             NaN     33906           NaN     15784              NaN   \n",
              "mean       38.643585       NaN  1.896641e+05       NaN        10.078089   \n",
              "std        13.710510       NaN  1.056040e+05       NaN         2.570973   \n",
              "min        17.000000       NaN  1.228500e+04       NaN         1.000000   \n",
              "25%        28.000000       NaN  1.175505e+05       NaN         9.000000   \n",
              "50%        37.000000       NaN  1.781445e+05       NaN        10.000000   \n",
              "75%        48.000000       NaN  2.376420e+05       NaN        12.000000   \n",
              "max        90.000000       NaN  1.490400e+06       NaN        16.000000   \n",
              "\n",
              "            marital-status      occupation relationship   race gender  \\\n",
              "count                48842           48842        48842  48842  48842   \n",
              "unique                   7              15            6      5      2   \n",
              "top     Married-civ-spouse  Prof-specialty      Husband  White   Male   \n",
              "freq                 22379            6172        19716  41762  32650   \n",
              "mean                   NaN             NaN          NaN    NaN    NaN   \n",
              "std                    NaN             NaN          NaN    NaN    NaN   \n",
              "min                    NaN             NaN          NaN    NaN    NaN   \n",
              "25%                    NaN             NaN          NaN    NaN    NaN   \n",
              "50%                    NaN             NaN          NaN    NaN    NaN   \n",
              "75%                    NaN             NaN          NaN    NaN    NaN   \n",
              "max                    NaN             NaN          NaN    NaN    NaN   \n",
              "\n",
              "        capital-gain  capital-loss  hours-per-week native-country income  \n",
              "count   48842.000000  48842.000000    48842.000000          48842  48842  \n",
              "unique           NaN           NaN             NaN             42      2  \n",
              "top              NaN           NaN             NaN  United-States  <=50K  \n",
              "freq             NaN           NaN             NaN          43832  37155  \n",
              "mean     1079.067626     87.502314       40.422382            NaN    NaN  \n",
              "std      7452.019058    403.004552       12.391444            NaN    NaN  \n",
              "min         0.000000      0.000000        1.000000            NaN    NaN  \n",
              "25%         0.000000      0.000000       40.000000            NaN    NaN  \n",
              "50%         0.000000      0.000000       40.000000            NaN    NaN  \n",
              "75%         0.000000      0.000000       45.000000            NaN    NaN  \n",
              "max     99999.000000   4356.000000       99.000000            NaN    NaN  "
            ],
            "text/html": [
              "\n",
              "  <div id=\"df-074580ca-abd1-4dea-a07e-27fc2fb93c83\">\n",
              "    <div class=\"colab-df-container\">\n",
              "      <div>\n",
              "<style scoped>\n",
              "    .dataframe tbody tr th:only-of-type {\n",
              "        vertical-align: middle;\n",
              "    }\n",
              "\n",
              "    .dataframe tbody tr th {\n",
              "        vertical-align: top;\n",
              "    }\n",
              "\n",
              "    .dataframe thead th {\n",
              "        text-align: right;\n",
              "    }\n",
              "</style>\n",
              "<table border=\"1\" class=\"dataframe\">\n",
              "  <thead>\n",
              "    <tr style=\"text-align: right;\">\n",
              "      <th></th>\n",
              "      <th>age</th>\n",
              "      <th>workclass</th>\n",
              "      <th>fnlwgt</th>\n",
              "      <th>education</th>\n",
              "      <th>educational-num</th>\n",
              "      <th>marital-status</th>\n",
              "      <th>occupation</th>\n",
              "      <th>relationship</th>\n",
              "      <th>race</th>\n",
              "      <th>gender</th>\n",
              "      <th>capital-gain</th>\n",
              "      <th>capital-loss</th>\n",
              "      <th>hours-per-week</th>\n",
              "      <th>native-country</th>\n",
              "      <th>income</th>\n",
              "    </tr>\n",
              "  </thead>\n",
              "  <tbody>\n",
              "    <tr>\n",
              "      <th>count</th>\n",
              "      <td>48842.000000</td>\n",
              "      <td>48842</td>\n",
              "      <td>4.884200e+04</td>\n",
              "      <td>48842</td>\n",
              "      <td>48842.000000</td>\n",
              "      <td>48842</td>\n",
              "      <td>48842</td>\n",
              "      <td>48842</td>\n",
              "      <td>48842</td>\n",
              "      <td>48842</td>\n",
              "      <td>48842.000000</td>\n",
              "      <td>48842.000000</td>\n",
              "      <td>48842.000000</td>\n",
              "      <td>48842</td>\n",
              "      <td>48842</td>\n",
              "    </tr>\n",
              "    <tr>\n",
              "      <th>unique</th>\n",
              "      <td>NaN</td>\n",
              "      <td>9</td>\n",
              "      <td>NaN</td>\n",
              "      <td>16</td>\n",
              "      <td>NaN</td>\n",
              "      <td>7</td>\n",
              "      <td>15</td>\n",
              "      <td>6</td>\n",
              "      <td>5</td>\n",
              "      <td>2</td>\n",
              "      <td>NaN</td>\n",
              "      <td>NaN</td>\n",
              "      <td>NaN</td>\n",
              "      <td>42</td>\n",
              "      <td>2</td>\n",
              "    </tr>\n",
              "    <tr>\n",
              "      <th>top</th>\n",
              "      <td>NaN</td>\n",
              "      <td>Private</td>\n",
              "      <td>NaN</td>\n",
              "      <td>HS-grad</td>\n",
              "      <td>NaN</td>\n",
              "      <td>Married-civ-spouse</td>\n",
              "      <td>Prof-specialty</td>\n",
              "      <td>Husband</td>\n",
              "      <td>White</td>\n",
              "      <td>Male</td>\n",
              "      <td>NaN</td>\n",
              "      <td>NaN</td>\n",
              "      <td>NaN</td>\n",
              "      <td>United-States</td>\n",
              "      <td>&lt;=50K</td>\n",
              "    </tr>\n",
              "    <tr>\n",
              "      <th>freq</th>\n",
              "      <td>NaN</td>\n",
              "      <td>33906</td>\n",
              "      <td>NaN</td>\n",
              "      <td>15784</td>\n",
              "      <td>NaN</td>\n",
              "      <td>22379</td>\n",
              "      <td>6172</td>\n",
              "      <td>19716</td>\n",
              "      <td>41762</td>\n",
              "      <td>32650</td>\n",
              "      <td>NaN</td>\n",
              "      <td>NaN</td>\n",
              "      <td>NaN</td>\n",
              "      <td>43832</td>\n",
              "      <td>37155</td>\n",
              "    </tr>\n",
              "    <tr>\n",
              "      <th>mean</th>\n",
              "      <td>38.643585</td>\n",
              "      <td>NaN</td>\n",
              "      <td>1.896641e+05</td>\n",
              "      <td>NaN</td>\n",
              "      <td>10.078089</td>\n",
              "      <td>NaN</td>\n",
              "      <td>NaN</td>\n",
              "      <td>NaN</td>\n",
              "      <td>NaN</td>\n",
              "      <td>NaN</td>\n",
              "      <td>1079.067626</td>\n",
              "      <td>87.502314</td>\n",
              "      <td>40.422382</td>\n",
              "      <td>NaN</td>\n",
              "      <td>NaN</td>\n",
              "    </tr>\n",
              "    <tr>\n",
              "      <th>std</th>\n",
              "      <td>13.710510</td>\n",
              "      <td>NaN</td>\n",
              "      <td>1.056040e+05</td>\n",
              "      <td>NaN</td>\n",
              "      <td>2.570973</td>\n",
              "      <td>NaN</td>\n",
              "      <td>NaN</td>\n",
              "      <td>NaN</td>\n",
              "      <td>NaN</td>\n",
              "      <td>NaN</td>\n",
              "      <td>7452.019058</td>\n",
              "      <td>403.004552</td>\n",
              "      <td>12.391444</td>\n",
              "      <td>NaN</td>\n",
              "      <td>NaN</td>\n",
              "    </tr>\n",
              "    <tr>\n",
              "      <th>min</th>\n",
              "      <td>17.000000</td>\n",
              "      <td>NaN</td>\n",
              "      <td>1.228500e+04</td>\n",
              "      <td>NaN</td>\n",
              "      <td>1.000000</td>\n",
              "      <td>NaN</td>\n",
              "      <td>NaN</td>\n",
              "      <td>NaN</td>\n",
              "      <td>NaN</td>\n",
              "      <td>NaN</td>\n",
              "      <td>0.000000</td>\n",
              "      <td>0.000000</td>\n",
              "      <td>1.000000</td>\n",
              "      <td>NaN</td>\n",
              "      <td>NaN</td>\n",
              "    </tr>\n",
              "    <tr>\n",
              "      <th>25%</th>\n",
              "      <td>28.000000</td>\n",
              "      <td>NaN</td>\n",
              "      <td>1.175505e+05</td>\n",
              "      <td>NaN</td>\n",
              "      <td>9.000000</td>\n",
              "      <td>NaN</td>\n",
              "      <td>NaN</td>\n",
              "      <td>NaN</td>\n",
              "      <td>NaN</td>\n",
              "      <td>NaN</td>\n",
              "      <td>0.000000</td>\n",
              "      <td>0.000000</td>\n",
              "      <td>40.000000</td>\n",
              "      <td>NaN</td>\n",
              "      <td>NaN</td>\n",
              "    </tr>\n",
              "    <tr>\n",
              "      <th>50%</th>\n",
              "      <td>37.000000</td>\n",
              "      <td>NaN</td>\n",
              "      <td>1.781445e+05</td>\n",
              "      <td>NaN</td>\n",
              "      <td>10.000000</td>\n",
              "      <td>NaN</td>\n",
              "      <td>NaN</td>\n",
              "      <td>NaN</td>\n",
              "      <td>NaN</td>\n",
              "      <td>NaN</td>\n",
              "      <td>0.000000</td>\n",
              "      <td>0.000000</td>\n",
              "      <td>40.000000</td>\n",
              "      <td>NaN</td>\n",
              "      <td>NaN</td>\n",
              "    </tr>\n",
              "    <tr>\n",
              "      <th>75%</th>\n",
              "      <td>48.000000</td>\n",
              "      <td>NaN</td>\n",
              "      <td>2.376420e+05</td>\n",
              "      <td>NaN</td>\n",
              "      <td>12.000000</td>\n",
              "      <td>NaN</td>\n",
              "      <td>NaN</td>\n",
              "      <td>NaN</td>\n",
              "      <td>NaN</td>\n",
              "      <td>NaN</td>\n",
              "      <td>0.000000</td>\n",
              "      <td>0.000000</td>\n",
              "      <td>45.000000</td>\n",
              "      <td>NaN</td>\n",
              "      <td>NaN</td>\n",
              "    </tr>\n",
              "    <tr>\n",
              "      <th>max</th>\n",
              "      <td>90.000000</td>\n",
              "      <td>NaN</td>\n",
              "      <td>1.490400e+06</td>\n",
              "      <td>NaN</td>\n",
              "      <td>16.000000</td>\n",
              "      <td>NaN</td>\n",
              "      <td>NaN</td>\n",
              "      <td>NaN</td>\n",
              "      <td>NaN</td>\n",
              "      <td>NaN</td>\n",
              "      <td>99999.000000</td>\n",
              "      <td>4356.000000</td>\n",
              "      <td>99.000000</td>\n",
              "      <td>NaN</td>\n",
              "      <td>NaN</td>\n",
              "    </tr>\n",
              "  </tbody>\n",
              "</table>\n",
              "</div>\n",
              "      <button class=\"colab-df-convert\" onclick=\"convertToInteractive('df-074580ca-abd1-4dea-a07e-27fc2fb93c83')\"\n",
              "              title=\"Convert this dataframe to an interactive table.\"\n",
              "              style=\"display:none;\">\n",
              "        \n",
              "  <svg xmlns=\"http://www.w3.org/2000/svg\" height=\"24px\"viewBox=\"0 0 24 24\"\n",
              "       width=\"24px\">\n",
              "    <path d=\"M0 0h24v24H0V0z\" fill=\"none\"/>\n",
              "    <path d=\"M18.56 5.44l.94 2.06.94-2.06 2.06-.94-2.06-.94-.94-2.06-.94 2.06-2.06.94zm-11 1L8.5 8.5l.94-2.06 2.06-.94-2.06-.94L8.5 2.5l-.94 2.06-2.06.94zm10 10l.94 2.06.94-2.06 2.06-.94-2.06-.94-.94-2.06-.94 2.06-2.06.94z\"/><path d=\"M17.41 7.96l-1.37-1.37c-.4-.4-.92-.59-1.43-.59-.52 0-1.04.2-1.43.59L10.3 9.45l-7.72 7.72c-.78.78-.78 2.05 0 2.83L4 21.41c.39.39.9.59 1.41.59.51 0 1.02-.2 1.41-.59l7.78-7.78 2.81-2.81c.8-.78.8-2.07 0-2.86zM5.41 20L4 18.59l7.72-7.72 1.47 1.35L5.41 20z\"/>\n",
              "  </svg>\n",
              "      </button>\n",
              "      \n",
              "  <style>\n",
              "    .colab-df-container {\n",
              "      display:flex;\n",
              "      flex-wrap:wrap;\n",
              "      gap: 12px;\n",
              "    }\n",
              "\n",
              "    .colab-df-convert {\n",
              "      background-color: #E8F0FE;\n",
              "      border: none;\n",
              "      border-radius: 50%;\n",
              "      cursor: pointer;\n",
              "      display: none;\n",
              "      fill: #1967D2;\n",
              "      height: 32px;\n",
              "      padding: 0 0 0 0;\n",
              "      width: 32px;\n",
              "    }\n",
              "\n",
              "    .colab-df-convert:hover {\n",
              "      background-color: #E2EBFA;\n",
              "      box-shadow: 0px 1px 2px rgba(60, 64, 67, 0.3), 0px 1px 3px 1px rgba(60, 64, 67, 0.15);\n",
              "      fill: #174EA6;\n",
              "    }\n",
              "\n",
              "    [theme=dark] .colab-df-convert {\n",
              "      background-color: #3B4455;\n",
              "      fill: #D2E3FC;\n",
              "    }\n",
              "\n",
              "    [theme=dark] .colab-df-convert:hover {\n",
              "      background-color: #434B5C;\n",
              "      box-shadow: 0px 1px 3px 1px rgba(0, 0, 0, 0.15);\n",
              "      filter: drop-shadow(0px 1px 2px rgba(0, 0, 0, 0.3));\n",
              "      fill: #FFFFFF;\n",
              "    }\n",
              "  </style>\n",
              "\n",
              "      <script>\n",
              "        const buttonEl =\n",
              "          document.querySelector('#df-074580ca-abd1-4dea-a07e-27fc2fb93c83 button.colab-df-convert');\n",
              "        buttonEl.style.display =\n",
              "          google.colab.kernel.accessAllowed ? 'block' : 'none';\n",
              "\n",
              "        async function convertToInteractive(key) {\n",
              "          const element = document.querySelector('#df-074580ca-abd1-4dea-a07e-27fc2fb93c83');\n",
              "          const dataTable =\n",
              "            await google.colab.kernel.invokeFunction('convertToInteractive',\n",
              "                                                     [key], {});\n",
              "          if (!dataTable) return;\n",
              "\n",
              "          const docLinkHtml = 'Like what you see? Visit the ' +\n",
              "            '<a target=\"_blank\" href=https://colab.research.google.com/notebooks/data_table.ipynb>data table notebook</a>'\n",
              "            + ' to learn more about interactive tables.';\n",
              "          element.innerHTML = '';\n",
              "          dataTable['output_type'] = 'display_data';\n",
              "          await google.colab.output.renderOutput(dataTable, element);\n",
              "          const docLink = document.createElement('div');\n",
              "          docLink.innerHTML = docLinkHtml;\n",
              "          element.appendChild(docLink);\n",
              "        }\n",
              "      </script>\n",
              "    </div>\n",
              "  </div>\n",
              "  "
            ]
          },
          "metadata": {},
          "execution_count": 134
        }
      ]
    },
    {
      "cell_type": "markdown",
      "source": [
        "- on my intinal review of the data, there are many missing values. There are 15 columns and 48842 rows. There also appear to be inconsistant values as well in the given data. We will deal with all these issues below."
      ],
      "metadata": {
        "id": "3t2u04LNLtya"
      }
    },
    {
      "cell_type": "markdown",
      "source": [
        "## **2. Prepare/clean the data for exploratory analysis purposes.**"
      ],
      "metadata": {
        "id": "C5dsNEMZNH_W"
      }
    },
    {
      "cell_type": "markdown",
      "source": [
        "### **Duplicates**"
      ],
      "metadata": {
        "id": "br7VcxhHNNHx"
      }
    },
    {
      "cell_type": "code",
      "source": [
        "# Display the number of duplicate rows in the dataset\n",
        "print(f'There are {df.duplicated().sum()} duplicate rows.')"
      ],
      "metadata": {
        "colab": {
          "base_uri": "https://localhost:8080/"
        },
        "id": "HFg8nScZNOgH",
        "outputId": "6ac9153b-b98b-4c43-9179-6c7758d8dc65"
      },
      "execution_count": 135,
      "outputs": [
        {
          "output_type": "stream",
          "name": "stdout",
          "text": [
            "There are 52 duplicate rows.\n"
          ]
        }
      ]
    },
    {
      "cell_type": "code",
      "source": [
        "# Drop duplicates \n",
        "df.drop_duplicates(inplace = True)"
      ],
      "metadata": {
        "id": "jt6gnFXsNZoO"
      },
      "execution_count": 136,
      "outputs": []
    },
    {
      "cell_type": "code",
      "source": [
        "# Recheck for duplicates \n",
        "print(f'There are {df.duplicated().sum()} duplicate rows.')"
      ],
      "metadata": {
        "colab": {
          "base_uri": "https://localhost:8080/"
        },
        "id": "zQmMLtPSNbed",
        "outputId": "6c9ba967-5f18-4a65-852b-7cef273d6ece"
      },
      "execution_count": 137,
      "outputs": [
        {
          "output_type": "stream",
          "name": "stdout",
          "text": [
            "There are 0 duplicate rows.\n"
          ]
        }
      ]
    },
    {
      "cell_type": "markdown",
      "source": [
        "### **Inspect Column Datatypes for Errors**"
      ],
      "metadata": {
        "id": "CUC6p9OpOWwi"
      }
    },
    {
      "cell_type": "code",
      "source": [
        "# Display the column names and datatypes for each column\n",
        "# Columns with mixed datatypes are identified as an object datatype\n",
        "df.dtypes"
      ],
      "metadata": {
        "colab": {
          "base_uri": "https://localhost:8080/"
        },
        "id": "WZoGbB1yOZwg",
        "outputId": "ae2fbfce-0b26-41e3-a36e-f2eb9af106b4"
      },
      "execution_count": 138,
      "outputs": [
        {
          "output_type": "execute_result",
          "data": {
            "text/plain": [
              "age                 int64\n",
              "workclass          object\n",
              "fnlwgt              int64\n",
              "education          object\n",
              "educational-num     int64\n",
              "marital-status     object\n",
              "occupation         object\n",
              "relationship       object\n",
              "race               object\n",
              "gender             object\n",
              "capital-gain        int64\n",
              "capital-loss        int64\n",
              "hours-per-week      int64\n",
              "native-country     object\n",
              "income             object\n",
              "dtype: object"
            ]
          },
          "metadata": {},
          "execution_count": 138
        }
      ]
    },
    {
      "cell_type": "code",
      "source": [
        "# Display the column names, count of non-null values, and their datatypes\n",
        "df.info()"
      ],
      "metadata": {
        "colab": {
          "base_uri": "https://localhost:8080/"
        },
        "id": "4AzBmqIYOgGO",
        "outputId": "5ed12630-dd16-4caa-d1eb-ddb9687e471e"
      },
      "execution_count": 139,
      "outputs": [
        {
          "output_type": "stream",
          "name": "stdout",
          "text": [
            "<class 'pandas.core.frame.DataFrame'>\n",
            "Int64Index: 48790 entries, 0 to 48841\n",
            "Data columns (total 15 columns):\n",
            " #   Column           Non-Null Count  Dtype \n",
            "---  ------           --------------  ----- \n",
            " 0   age              48790 non-null  int64 \n",
            " 1   workclass        48790 non-null  object\n",
            " 2   fnlwgt           48790 non-null  int64 \n",
            " 3   education        48790 non-null  object\n",
            " 4   educational-num  48790 non-null  int64 \n",
            " 5   marital-status   48790 non-null  object\n",
            " 6   occupation       48790 non-null  object\n",
            " 7   relationship     48790 non-null  object\n",
            " 8   race             48790 non-null  object\n",
            " 9   gender           48790 non-null  object\n",
            " 10  capital-gain     48790 non-null  int64 \n",
            " 11  capital-loss     48790 non-null  int64 \n",
            " 12  hours-per-week   48790 non-null  int64 \n",
            " 13  native-country   48790 non-null  object\n",
            " 14  income           48790 non-null  object\n",
            "dtypes: int64(6), object(9)\n",
            "memory usage: 6.0+ MB\n"
          ]
        }
      ]
    },
    {
      "cell_type": "markdown",
      "source": [
        "###**Checking for Missing Values**"
      ],
      "metadata": {
        "id": "98AMdI2aRjdx"
      }
    },
    {
      "cell_type": "code",
      "source": [
        "df.isnull().sum()"
      ],
      "metadata": {
        "colab": {
          "base_uri": "https://localhost:8080/"
        },
        "id": "DeJzv84HRprf",
        "outputId": "495b4521-6147-4265-9032-c6bc1c3a01a3"
      },
      "execution_count": 140,
      "outputs": [
        {
          "output_type": "execute_result",
          "data": {
            "text/plain": [
              "age                0\n",
              "workclass          0\n",
              "fnlwgt             0\n",
              "education          0\n",
              "educational-num    0\n",
              "marital-status     0\n",
              "occupation         0\n",
              "relationship       0\n",
              "race               0\n",
              "gender             0\n",
              "capital-gain       0\n",
              "capital-loss       0\n",
              "hours-per-week     0\n",
              "native-country     0\n",
              "income             0\n",
              "dtype: int64"
            ]
          },
          "metadata": {},
          "execution_count": 140
        }
      ]
    },
    {
      "cell_type": "markdown",
      "source": [
        "###**Analysis of dataset**"
      ],
      "metadata": {
        "id": "fmCp5WPeSGhz"
      }
    },
    {
      "cell_type": "code",
      "source": [
        "for i in df.columns:\n",
        "    a = df.value_counts(i)\n",
        "    print(f'\\n\\n\\nvalues of {a}')"
      ],
      "metadata": {
        "colab": {
          "base_uri": "https://localhost:8080/"
        },
        "id": "m1wJ0knoSN6r",
        "outputId": "5fb863b9-7f90-4d86-baaa-52069c197902"
      },
      "execution_count": 141,
      "outputs": [
        {
          "output_type": "stream",
          "name": "stdout",
          "text": [
            "\n",
            "\n",
            "\n",
            "values of age\n",
            "36    1348\n",
            "35    1336\n",
            "33    1335\n",
            "23    1325\n",
            "31    1324\n",
            "      ... \n",
            "88       6\n",
            "85       5\n",
            "87       3\n",
            "89       2\n",
            "86       1\n",
            "Length: 74, dtype: int64\n",
            "\n",
            "\n",
            "\n",
            "values of workclass\n",
            "Private             33860\n",
            "Self-emp-not-inc     3861\n",
            "Local-gov            3136\n",
            "?                    2795\n",
            "State-gov            1981\n",
            "Self-emp-inc         1694\n",
            "Federal-gov          1432\n",
            "Without-pay            21\n",
            "Never-worked           10\n",
            "dtype: int64\n",
            "\n",
            "\n",
            "\n",
            "values of fnlwgt\n",
            "203488     21\n",
            "190290     19\n",
            "120277     19\n",
            "125892     18\n",
            "126569     18\n",
            "           ..\n",
            "163443      1\n",
            "163393      1\n",
            "163385      1\n",
            "163380      1\n",
            "1490400     1\n",
            "Length: 28523, dtype: int64\n",
            "\n",
            "\n",
            "\n",
            "values of education\n",
            "HS-grad         15770\n",
            "Some-college    10863\n",
            "Bachelors        8013\n",
            "Masters          2656\n",
            "Assoc-voc        2060\n",
            "11th             1812\n",
            "Assoc-acdm       1601\n",
            "10th             1389\n",
            "7th-8th           954\n",
            "Prof-school       834\n",
            "9th               756\n",
            "12th              655\n",
            "Doctorate         594\n",
            "5th-6th           507\n",
            "1st-4th           245\n",
            "Preschool          81\n",
            "dtype: int64\n",
            "\n",
            "\n",
            "\n",
            "values of educational-num\n",
            "9     15770\n",
            "10    10863\n",
            "13     8013\n",
            "14     2656\n",
            "11     2060\n",
            "7      1812\n",
            "12     1601\n",
            "6      1389\n",
            "4       954\n",
            "15      834\n",
            "5       756\n",
            "8       655\n",
            "16      594\n",
            "3       507\n",
            "2       245\n",
            "1        81\n",
            "dtype: int64\n",
            "\n",
            "\n",
            "\n",
            "values of marital-status\n",
            "Married-civ-spouse       22366\n",
            "Never-married            16082\n",
            "Divorced                  6630\n",
            "Separated                 1530\n",
            "Widowed                   1518\n",
            "Married-spouse-absent      627\n",
            "Married-AF-spouse           37\n",
            "dtype: int64\n",
            "\n",
            "\n",
            "\n",
            "values of occupation\n",
            "Prof-specialty       6165\n",
            "Craft-repair         6102\n",
            "Exec-managerial      6082\n",
            "Adm-clerical         5606\n",
            "Sales                5501\n",
            "Other-service        4919\n",
            "Machine-op-inspct    3017\n",
            "?                    2805\n",
            "Transport-moving     2355\n",
            "Handlers-cleaners    2071\n",
            "Farming-fishing      1485\n",
            "Tech-support         1445\n",
            "Protective-serv       982\n",
            "Priv-house-serv       240\n",
            "Armed-Forces           15\n",
            "dtype: int64\n",
            "\n",
            "\n",
            "\n",
            "values of relationship\n",
            "Husband           19703\n",
            "Not-in-family     12557\n",
            "Own-child          7569\n",
            "Unmarried          5124\n",
            "Wife               2331\n",
            "Other-relative     1506\n",
            "dtype: int64\n",
            "\n",
            "\n",
            "\n",
            "values of race\n",
            "White                 41714\n",
            "Black                  4683\n",
            "Asian-Pac-Islander     1517\n",
            "Amer-Indian-Eskimo      470\n",
            "Other                   406\n",
            "dtype: int64\n",
            "\n",
            "\n",
            "\n",
            "values of gender\n",
            "Male      32614\n",
            "Female    16176\n",
            "dtype: int64\n",
            "\n",
            "\n",
            "\n",
            "values of capital-gain\n",
            "0        44755\n",
            "15024      513\n",
            "7688       410\n",
            "7298       364\n",
            "99999      244\n",
            "         ...  \n",
            "2387         1\n",
            "22040        1\n",
            "1111         1\n",
            "6612         1\n",
            "1639         1\n",
            "Length: 123, dtype: int64\n",
            "\n",
            "\n",
            "\n",
            "values of capital-loss\n",
            "0       46508\n",
            "1902      304\n",
            "1977      253\n",
            "1887      233\n",
            "2415       72\n",
            "        ...  \n",
            "155         1\n",
            "1870        1\n",
            "2080        1\n",
            "1539        1\n",
            "2201        1\n",
            "Length: 99, dtype: int64\n",
            "\n",
            "\n",
            "\n",
            "values of hours-per-week\n",
            "40    22773\n",
            "50     4242\n",
            "45     2715\n",
            "60     2177\n",
            "35     1934\n",
            "      ...  \n",
            "87        1\n",
            "82        1\n",
            "94        1\n",
            "79        1\n",
            "69        1\n",
            "Length: 96, dtype: int64\n",
            "\n",
            "\n",
            "\n",
            "values of native-country\n",
            "United-States                 43792\n",
            "Mexico                          943\n",
            "?                               856\n",
            "Philippines                     294\n",
            "Germany                         206\n",
            "Puerto-Rico                     184\n",
            "Canada                          182\n",
            "El-Salvador                     155\n",
            "India                           151\n",
            "Cuba                            138\n",
            "England                         127\n",
            "China                           122\n",
            "South                           115\n",
            "Jamaica                         106\n",
            "Italy                           105\n",
            "Dominican-Republic              103\n",
            "Japan                            92\n",
            "Poland                           87\n",
            "Vietnam                          86\n",
            "Guatemala                        86\n",
            "Columbia                         85\n",
            "Haiti                            75\n",
            "Portugal                         67\n",
            "Taiwan                           65\n",
            "Iran                             59\n",
            "Greece                           49\n",
            "Nicaragua                        49\n",
            "Peru                             46\n",
            "Ecuador                          45\n",
            "France                           38\n",
            "Ireland                          37\n",
            "Hong                             30\n",
            "Thailand                         30\n",
            "Cambodia                         28\n",
            "Trinadad&Tobago                  27\n",
            "Outlying-US(Guam-USVI-etc)       23\n",
            "Laos                             23\n",
            "Yugoslavia                       23\n",
            "Scotland                         21\n",
            "Honduras                         20\n",
            "Hungary                          19\n",
            "Holand-Netherlands                1\n",
            "dtype: int64\n",
            "\n",
            "\n",
            "\n",
            "values of income\n",
            "<=50K    37109\n",
            ">50K     11681\n",
            "dtype: int64\n"
          ]
        }
      ]
    },
    {
      "cell_type": "markdown",
      "source": [
        "so, from the above description\n",
        "\n",
        "**coloumns which have \"?\" or missing values are :**\n",
        "\n",
        "- workclass (categorical)\n",
        "- occupation (categorical)\n",
        "- native-country (categorical)\n",
        "\n",
        "**coloumns which have \"0\" or missing values are :**\n",
        "\n",
        "capital-gain\n",
        "capital-loss"
      ],
      "metadata": {
        "id": "dGSOc174S1cA"
      }
    },
    {
      "cell_type": "markdown",
      "source": [
        "###**Handling missing values of categorical columns**\n",
        "\n",
        "\n",
        "- Removing the columns (Capital-gain and capital-loss) because more than 90% entries are not filled i.e Zero."
      ],
      "metadata": {
        "id": "znCmoVbVTZ0T"
      }
    },
    {
      "cell_type": "code",
      "source": [
        "df = df.drop(['education'],axis=1)\n",
        "df"
      ],
      "metadata": {
        "colab": {
          "base_uri": "https://localhost:8080/",
          "height": 424
        },
        "id": "Z4siXxioTg8w",
        "outputId": "2531b7a8-418b-4be0-c967-d59d292c2c19"
      },
      "execution_count": 142,
      "outputs": [
        {
          "output_type": "execute_result",
          "data": {
            "text/plain": [
              "       age     workclass  fnlwgt  educational-num      marital-status  \\\n",
              "0       25       Private  226802                7       Never-married   \n",
              "1       38       Private   89814                9  Married-civ-spouse   \n",
              "2       28     Local-gov  336951               12  Married-civ-spouse   \n",
              "3       44       Private  160323               10  Married-civ-spouse   \n",
              "4       18             ?  103497               10       Never-married   \n",
              "...    ...           ...     ...              ...                 ...   \n",
              "48837   27       Private  257302               12  Married-civ-spouse   \n",
              "48838   40       Private  154374                9  Married-civ-spouse   \n",
              "48839   58       Private  151910                9             Widowed   \n",
              "48840   22       Private  201490                9       Never-married   \n",
              "48841   52  Self-emp-inc  287927                9  Married-civ-spouse   \n",
              "\n",
              "              occupation relationship   race  gender  capital-gain  \\\n",
              "0      Machine-op-inspct    Own-child  Black    Male             0   \n",
              "1        Farming-fishing      Husband  White    Male             0   \n",
              "2        Protective-serv      Husband  White    Male             0   \n",
              "3      Machine-op-inspct      Husband  Black    Male          7688   \n",
              "4                      ?    Own-child  White  Female             0   \n",
              "...                  ...          ...    ...     ...           ...   \n",
              "48837       Tech-support         Wife  White  Female             0   \n",
              "48838  Machine-op-inspct      Husband  White    Male             0   \n",
              "48839       Adm-clerical    Unmarried  White  Female             0   \n",
              "48840       Adm-clerical    Own-child  White    Male             0   \n",
              "48841    Exec-managerial         Wife  White  Female         15024   \n",
              "\n",
              "       capital-loss  hours-per-week native-country income  \n",
              "0                 0              40  United-States  <=50K  \n",
              "1                 0              50  United-States  <=50K  \n",
              "2                 0              40  United-States   >50K  \n",
              "3                 0              40  United-States   >50K  \n",
              "4                 0              30  United-States  <=50K  \n",
              "...             ...             ...            ...    ...  \n",
              "48837             0              38  United-States  <=50K  \n",
              "48838             0              40  United-States   >50K  \n",
              "48839             0              40  United-States  <=50K  \n",
              "48840             0              20  United-States  <=50K  \n",
              "48841             0              40  United-States   >50K  \n",
              "\n",
              "[48790 rows x 14 columns]"
            ],
            "text/html": [
              "\n",
              "  <div id=\"df-aacf9c9f-a4b5-41f7-b279-f92536ad20bf\">\n",
              "    <div class=\"colab-df-container\">\n",
              "      <div>\n",
              "<style scoped>\n",
              "    .dataframe tbody tr th:only-of-type {\n",
              "        vertical-align: middle;\n",
              "    }\n",
              "\n",
              "    .dataframe tbody tr th {\n",
              "        vertical-align: top;\n",
              "    }\n",
              "\n",
              "    .dataframe thead th {\n",
              "        text-align: right;\n",
              "    }\n",
              "</style>\n",
              "<table border=\"1\" class=\"dataframe\">\n",
              "  <thead>\n",
              "    <tr style=\"text-align: right;\">\n",
              "      <th></th>\n",
              "      <th>age</th>\n",
              "      <th>workclass</th>\n",
              "      <th>fnlwgt</th>\n",
              "      <th>educational-num</th>\n",
              "      <th>marital-status</th>\n",
              "      <th>occupation</th>\n",
              "      <th>relationship</th>\n",
              "      <th>race</th>\n",
              "      <th>gender</th>\n",
              "      <th>capital-gain</th>\n",
              "      <th>capital-loss</th>\n",
              "      <th>hours-per-week</th>\n",
              "      <th>native-country</th>\n",
              "      <th>income</th>\n",
              "    </tr>\n",
              "  </thead>\n",
              "  <tbody>\n",
              "    <tr>\n",
              "      <th>0</th>\n",
              "      <td>25</td>\n",
              "      <td>Private</td>\n",
              "      <td>226802</td>\n",
              "      <td>7</td>\n",
              "      <td>Never-married</td>\n",
              "      <td>Machine-op-inspct</td>\n",
              "      <td>Own-child</td>\n",
              "      <td>Black</td>\n",
              "      <td>Male</td>\n",
              "      <td>0</td>\n",
              "      <td>0</td>\n",
              "      <td>40</td>\n",
              "      <td>United-States</td>\n",
              "      <td>&lt;=50K</td>\n",
              "    </tr>\n",
              "    <tr>\n",
              "      <th>1</th>\n",
              "      <td>38</td>\n",
              "      <td>Private</td>\n",
              "      <td>89814</td>\n",
              "      <td>9</td>\n",
              "      <td>Married-civ-spouse</td>\n",
              "      <td>Farming-fishing</td>\n",
              "      <td>Husband</td>\n",
              "      <td>White</td>\n",
              "      <td>Male</td>\n",
              "      <td>0</td>\n",
              "      <td>0</td>\n",
              "      <td>50</td>\n",
              "      <td>United-States</td>\n",
              "      <td>&lt;=50K</td>\n",
              "    </tr>\n",
              "    <tr>\n",
              "      <th>2</th>\n",
              "      <td>28</td>\n",
              "      <td>Local-gov</td>\n",
              "      <td>336951</td>\n",
              "      <td>12</td>\n",
              "      <td>Married-civ-spouse</td>\n",
              "      <td>Protective-serv</td>\n",
              "      <td>Husband</td>\n",
              "      <td>White</td>\n",
              "      <td>Male</td>\n",
              "      <td>0</td>\n",
              "      <td>0</td>\n",
              "      <td>40</td>\n",
              "      <td>United-States</td>\n",
              "      <td>&gt;50K</td>\n",
              "    </tr>\n",
              "    <tr>\n",
              "      <th>3</th>\n",
              "      <td>44</td>\n",
              "      <td>Private</td>\n",
              "      <td>160323</td>\n",
              "      <td>10</td>\n",
              "      <td>Married-civ-spouse</td>\n",
              "      <td>Machine-op-inspct</td>\n",
              "      <td>Husband</td>\n",
              "      <td>Black</td>\n",
              "      <td>Male</td>\n",
              "      <td>7688</td>\n",
              "      <td>0</td>\n",
              "      <td>40</td>\n",
              "      <td>United-States</td>\n",
              "      <td>&gt;50K</td>\n",
              "    </tr>\n",
              "    <tr>\n",
              "      <th>4</th>\n",
              "      <td>18</td>\n",
              "      <td>?</td>\n",
              "      <td>103497</td>\n",
              "      <td>10</td>\n",
              "      <td>Never-married</td>\n",
              "      <td>?</td>\n",
              "      <td>Own-child</td>\n",
              "      <td>White</td>\n",
              "      <td>Female</td>\n",
              "      <td>0</td>\n",
              "      <td>0</td>\n",
              "      <td>30</td>\n",
              "      <td>United-States</td>\n",
              "      <td>&lt;=50K</td>\n",
              "    </tr>\n",
              "    <tr>\n",
              "      <th>...</th>\n",
              "      <td>...</td>\n",
              "      <td>...</td>\n",
              "      <td>...</td>\n",
              "      <td>...</td>\n",
              "      <td>...</td>\n",
              "      <td>...</td>\n",
              "      <td>...</td>\n",
              "      <td>...</td>\n",
              "      <td>...</td>\n",
              "      <td>...</td>\n",
              "      <td>...</td>\n",
              "      <td>...</td>\n",
              "      <td>...</td>\n",
              "      <td>...</td>\n",
              "    </tr>\n",
              "    <tr>\n",
              "      <th>48837</th>\n",
              "      <td>27</td>\n",
              "      <td>Private</td>\n",
              "      <td>257302</td>\n",
              "      <td>12</td>\n",
              "      <td>Married-civ-spouse</td>\n",
              "      <td>Tech-support</td>\n",
              "      <td>Wife</td>\n",
              "      <td>White</td>\n",
              "      <td>Female</td>\n",
              "      <td>0</td>\n",
              "      <td>0</td>\n",
              "      <td>38</td>\n",
              "      <td>United-States</td>\n",
              "      <td>&lt;=50K</td>\n",
              "    </tr>\n",
              "    <tr>\n",
              "      <th>48838</th>\n",
              "      <td>40</td>\n",
              "      <td>Private</td>\n",
              "      <td>154374</td>\n",
              "      <td>9</td>\n",
              "      <td>Married-civ-spouse</td>\n",
              "      <td>Machine-op-inspct</td>\n",
              "      <td>Husband</td>\n",
              "      <td>White</td>\n",
              "      <td>Male</td>\n",
              "      <td>0</td>\n",
              "      <td>0</td>\n",
              "      <td>40</td>\n",
              "      <td>United-States</td>\n",
              "      <td>&gt;50K</td>\n",
              "    </tr>\n",
              "    <tr>\n",
              "      <th>48839</th>\n",
              "      <td>58</td>\n",
              "      <td>Private</td>\n",
              "      <td>151910</td>\n",
              "      <td>9</td>\n",
              "      <td>Widowed</td>\n",
              "      <td>Adm-clerical</td>\n",
              "      <td>Unmarried</td>\n",
              "      <td>White</td>\n",
              "      <td>Female</td>\n",
              "      <td>0</td>\n",
              "      <td>0</td>\n",
              "      <td>40</td>\n",
              "      <td>United-States</td>\n",
              "      <td>&lt;=50K</td>\n",
              "    </tr>\n",
              "    <tr>\n",
              "      <th>48840</th>\n",
              "      <td>22</td>\n",
              "      <td>Private</td>\n",
              "      <td>201490</td>\n",
              "      <td>9</td>\n",
              "      <td>Never-married</td>\n",
              "      <td>Adm-clerical</td>\n",
              "      <td>Own-child</td>\n",
              "      <td>White</td>\n",
              "      <td>Male</td>\n",
              "      <td>0</td>\n",
              "      <td>0</td>\n",
              "      <td>20</td>\n",
              "      <td>United-States</td>\n",
              "      <td>&lt;=50K</td>\n",
              "    </tr>\n",
              "    <tr>\n",
              "      <th>48841</th>\n",
              "      <td>52</td>\n",
              "      <td>Self-emp-inc</td>\n",
              "      <td>287927</td>\n",
              "      <td>9</td>\n",
              "      <td>Married-civ-spouse</td>\n",
              "      <td>Exec-managerial</td>\n",
              "      <td>Wife</td>\n",
              "      <td>White</td>\n",
              "      <td>Female</td>\n",
              "      <td>15024</td>\n",
              "      <td>0</td>\n",
              "      <td>40</td>\n",
              "      <td>United-States</td>\n",
              "      <td>&gt;50K</td>\n",
              "    </tr>\n",
              "  </tbody>\n",
              "</table>\n",
              "<p>48790 rows × 14 columns</p>\n",
              "</div>\n",
              "      <button class=\"colab-df-convert\" onclick=\"convertToInteractive('df-aacf9c9f-a4b5-41f7-b279-f92536ad20bf')\"\n",
              "              title=\"Convert this dataframe to an interactive table.\"\n",
              "              style=\"display:none;\">\n",
              "        \n",
              "  <svg xmlns=\"http://www.w3.org/2000/svg\" height=\"24px\"viewBox=\"0 0 24 24\"\n",
              "       width=\"24px\">\n",
              "    <path d=\"M0 0h24v24H0V0z\" fill=\"none\"/>\n",
              "    <path d=\"M18.56 5.44l.94 2.06.94-2.06 2.06-.94-2.06-.94-.94-2.06-.94 2.06-2.06.94zm-11 1L8.5 8.5l.94-2.06 2.06-.94-2.06-.94L8.5 2.5l-.94 2.06-2.06.94zm10 10l.94 2.06.94-2.06 2.06-.94-2.06-.94-.94-2.06-.94 2.06-2.06.94z\"/><path d=\"M17.41 7.96l-1.37-1.37c-.4-.4-.92-.59-1.43-.59-.52 0-1.04.2-1.43.59L10.3 9.45l-7.72 7.72c-.78.78-.78 2.05 0 2.83L4 21.41c.39.39.9.59 1.41.59.51 0 1.02-.2 1.41-.59l7.78-7.78 2.81-2.81c.8-.78.8-2.07 0-2.86zM5.41 20L4 18.59l7.72-7.72 1.47 1.35L5.41 20z\"/>\n",
              "  </svg>\n",
              "      </button>\n",
              "      \n",
              "  <style>\n",
              "    .colab-df-container {\n",
              "      display:flex;\n",
              "      flex-wrap:wrap;\n",
              "      gap: 12px;\n",
              "    }\n",
              "\n",
              "    .colab-df-convert {\n",
              "      background-color: #E8F0FE;\n",
              "      border: none;\n",
              "      border-radius: 50%;\n",
              "      cursor: pointer;\n",
              "      display: none;\n",
              "      fill: #1967D2;\n",
              "      height: 32px;\n",
              "      padding: 0 0 0 0;\n",
              "      width: 32px;\n",
              "    }\n",
              "\n",
              "    .colab-df-convert:hover {\n",
              "      background-color: #E2EBFA;\n",
              "      box-shadow: 0px 1px 2px rgba(60, 64, 67, 0.3), 0px 1px 3px 1px rgba(60, 64, 67, 0.15);\n",
              "      fill: #174EA6;\n",
              "    }\n",
              "\n",
              "    [theme=dark] .colab-df-convert {\n",
              "      background-color: #3B4455;\n",
              "      fill: #D2E3FC;\n",
              "    }\n",
              "\n",
              "    [theme=dark] .colab-df-convert:hover {\n",
              "      background-color: #434B5C;\n",
              "      box-shadow: 0px 1px 3px 1px rgba(0, 0, 0, 0.15);\n",
              "      filter: drop-shadow(0px 1px 2px rgba(0, 0, 0, 0.3));\n",
              "      fill: #FFFFFF;\n",
              "    }\n",
              "  </style>\n",
              "\n",
              "      <script>\n",
              "        const buttonEl =\n",
              "          document.querySelector('#df-aacf9c9f-a4b5-41f7-b279-f92536ad20bf button.colab-df-convert');\n",
              "        buttonEl.style.display =\n",
              "          google.colab.kernel.accessAllowed ? 'block' : 'none';\n",
              "\n",
              "        async function convertToInteractive(key) {\n",
              "          const element = document.querySelector('#df-aacf9c9f-a4b5-41f7-b279-f92536ad20bf');\n",
              "          const dataTable =\n",
              "            await google.colab.kernel.invokeFunction('convertToInteractive',\n",
              "                                                     [key], {});\n",
              "          if (!dataTable) return;\n",
              "\n",
              "          const docLinkHtml = 'Like what you see? Visit the ' +\n",
              "            '<a target=\"_blank\" href=https://colab.research.google.com/notebooks/data_table.ipynb>data table notebook</a>'\n",
              "            + ' to learn more about interactive tables.';\n",
              "          element.innerHTML = '';\n",
              "          dataTable['output_type'] = 'display_data';\n",
              "          await google.colab.output.renderOutput(dataTable, element);\n",
              "          const docLink = document.createElement('div');\n",
              "          docLink.innerHTML = docLinkHtml;\n",
              "          element.appendChild(docLink);\n",
              "        }\n",
              "      </script>\n",
              "    </div>\n",
              "  </div>\n",
              "  "
            ]
          },
          "metadata": {},
          "execution_count": 142
        }
      ]
    },
    {
      "cell_type": "code",
      "source": [
        "# Replacing \"?\" with NaN\n",
        "df.replace('?',np.nan,inplace=True)\n",
        "df.isnull().sum()"
      ],
      "metadata": {
        "colab": {
          "base_uri": "https://localhost:8080/"
        },
        "id": "P-buAl9hUfR4",
        "outputId": "e5efb681-9a3f-4f2d-dc0e-098351d57df1"
      },
      "execution_count": 143,
      "outputs": [
        {
          "output_type": "execute_result",
          "data": {
            "text/plain": [
              "age                   0\n",
              "workclass          2795\n",
              "fnlwgt                0\n",
              "educational-num       0\n",
              "marital-status        0\n",
              "occupation         2805\n",
              "relationship          0\n",
              "race                  0\n",
              "gender                0\n",
              "capital-gain          0\n",
              "capital-loss          0\n",
              "hours-per-week        0\n",
              "native-country      856\n",
              "income                0\n",
              "dtype: int64"
            ]
          },
          "metadata": {},
          "execution_count": 143
        }
      ]
    },
    {
      "cell_type": "code",
      "source": [
        "# Performing SimpleImputer\n",
        "imputer = SimpleImputer(strategy='most_frequent')\n",
        "imputer"
      ],
      "metadata": {
        "colab": {
          "base_uri": "https://localhost:8080/",
          "height": 75
        },
        "id": "78I39Ws4Um6O",
        "outputId": "c628ec62-9a65-4d73-903b-898e1bd52a24"
      },
      "execution_count": 144,
      "outputs": [
        {
          "output_type": "execute_result",
          "data": {
            "text/plain": [
              "SimpleImputer(strategy='most_frequent')"
            ],
            "text/html": [
              "<style>#sk-e09f6036-bdbd-4b73-b532-b4fc0802b501 {color: black;background-color: white;}#sk-e09f6036-bdbd-4b73-b532-b4fc0802b501 pre{padding: 0;}#sk-e09f6036-bdbd-4b73-b532-b4fc0802b501 div.sk-toggleable {background-color: white;}#sk-e09f6036-bdbd-4b73-b532-b4fc0802b501 label.sk-toggleable__label {cursor: pointer;display: block;width: 100%;margin-bottom: 0;padding: 0.3em;box-sizing: border-box;text-align: center;}#sk-e09f6036-bdbd-4b73-b532-b4fc0802b501 label.sk-toggleable__label-arrow:before {content: \"▸\";float: left;margin-right: 0.25em;color: #696969;}#sk-e09f6036-bdbd-4b73-b532-b4fc0802b501 label.sk-toggleable__label-arrow:hover:before {color: black;}#sk-e09f6036-bdbd-4b73-b532-b4fc0802b501 div.sk-estimator:hover label.sk-toggleable__label-arrow:before {color: black;}#sk-e09f6036-bdbd-4b73-b532-b4fc0802b501 div.sk-toggleable__content {max-height: 0;max-width: 0;overflow: hidden;text-align: left;background-color: #f0f8ff;}#sk-e09f6036-bdbd-4b73-b532-b4fc0802b501 div.sk-toggleable__content pre {margin: 0.2em;color: black;border-radius: 0.25em;background-color: #f0f8ff;}#sk-e09f6036-bdbd-4b73-b532-b4fc0802b501 input.sk-toggleable__control:checked~div.sk-toggleable__content {max-height: 200px;max-width: 100%;overflow: auto;}#sk-e09f6036-bdbd-4b73-b532-b4fc0802b501 input.sk-toggleable__control:checked~label.sk-toggleable__label-arrow:before {content: \"▾\";}#sk-e09f6036-bdbd-4b73-b532-b4fc0802b501 div.sk-estimator input.sk-toggleable__control:checked~label.sk-toggleable__label {background-color: #d4ebff;}#sk-e09f6036-bdbd-4b73-b532-b4fc0802b501 div.sk-label input.sk-toggleable__control:checked~label.sk-toggleable__label {background-color: #d4ebff;}#sk-e09f6036-bdbd-4b73-b532-b4fc0802b501 input.sk-hidden--visually {border: 0;clip: rect(1px 1px 1px 1px);clip: rect(1px, 1px, 1px, 1px);height: 1px;margin: -1px;overflow: hidden;padding: 0;position: absolute;width: 1px;}#sk-e09f6036-bdbd-4b73-b532-b4fc0802b501 div.sk-estimator {font-family: monospace;background-color: #f0f8ff;border: 1px dotted black;border-radius: 0.25em;box-sizing: border-box;margin-bottom: 0.5em;}#sk-e09f6036-bdbd-4b73-b532-b4fc0802b501 div.sk-estimator:hover {background-color: #d4ebff;}#sk-e09f6036-bdbd-4b73-b532-b4fc0802b501 div.sk-parallel-item::after {content: \"\";width: 100%;border-bottom: 1px solid gray;flex-grow: 1;}#sk-e09f6036-bdbd-4b73-b532-b4fc0802b501 div.sk-label:hover label.sk-toggleable__label {background-color: #d4ebff;}#sk-e09f6036-bdbd-4b73-b532-b4fc0802b501 div.sk-serial::before {content: \"\";position: absolute;border-left: 1px solid gray;box-sizing: border-box;top: 2em;bottom: 0;left: 50%;}#sk-e09f6036-bdbd-4b73-b532-b4fc0802b501 div.sk-serial {display: flex;flex-direction: column;align-items: center;background-color: white;padding-right: 0.2em;padding-left: 0.2em;}#sk-e09f6036-bdbd-4b73-b532-b4fc0802b501 div.sk-item {z-index: 1;}#sk-e09f6036-bdbd-4b73-b532-b4fc0802b501 div.sk-parallel {display: flex;align-items: stretch;justify-content: center;background-color: white;}#sk-e09f6036-bdbd-4b73-b532-b4fc0802b501 div.sk-parallel::before {content: \"\";position: absolute;border-left: 1px solid gray;box-sizing: border-box;top: 2em;bottom: 0;left: 50%;}#sk-e09f6036-bdbd-4b73-b532-b4fc0802b501 div.sk-parallel-item {display: flex;flex-direction: column;position: relative;background-color: white;}#sk-e09f6036-bdbd-4b73-b532-b4fc0802b501 div.sk-parallel-item:first-child::after {align-self: flex-end;width: 50%;}#sk-e09f6036-bdbd-4b73-b532-b4fc0802b501 div.sk-parallel-item:last-child::after {align-self: flex-start;width: 50%;}#sk-e09f6036-bdbd-4b73-b532-b4fc0802b501 div.sk-parallel-item:only-child::after {width: 0;}#sk-e09f6036-bdbd-4b73-b532-b4fc0802b501 div.sk-dashed-wrapped {border: 1px dashed gray;margin: 0 0.4em 0.5em 0.4em;box-sizing: border-box;padding-bottom: 0.4em;background-color: white;position: relative;}#sk-e09f6036-bdbd-4b73-b532-b4fc0802b501 div.sk-label label {font-family: monospace;font-weight: bold;background-color: white;display: inline-block;line-height: 1.2em;}#sk-e09f6036-bdbd-4b73-b532-b4fc0802b501 div.sk-label-container {position: relative;z-index: 2;text-align: center;}#sk-e09f6036-bdbd-4b73-b532-b4fc0802b501 div.sk-container {/* jupyter's `normalize.less` sets `[hidden] { display: none; }` but bootstrap.min.css set `[hidden] { display: none !important; }` so we also need the `!important` here to be able to override the default hidden behavior on the sphinx rendered scikit-learn.org. See: https://github.com/scikit-learn/scikit-learn/issues/21755 */display: inline-block !important;position: relative;}#sk-e09f6036-bdbd-4b73-b532-b4fc0802b501 div.sk-text-repr-fallback {display: none;}</style><div id=\"sk-e09f6036-bdbd-4b73-b532-b4fc0802b501\" class=\"sk-top-container\"><div class=\"sk-text-repr-fallback\"><pre>SimpleImputer(strategy=&#x27;most_frequent&#x27;)</pre><b>Please rerun this cell to show the HTML repr or trust the notebook.</b></div><div class=\"sk-container\" hidden><div class=\"sk-item\"><div class=\"sk-estimator sk-toggleable\"><input class=\"sk-toggleable__control sk-hidden--visually\" id=\"b4998453-f37b-4749-a5e9-23755b89120a\" type=\"checkbox\" checked><label for=\"b4998453-f37b-4749-a5e9-23755b89120a\" class=\"sk-toggleable__label sk-toggleable__label-arrow\">SimpleImputer</label><div class=\"sk-toggleable__content\"><pre>SimpleImputer(strategy=&#x27;most_frequent&#x27;)</pre></div></div></div></div></div>"
            ]
          },
          "metadata": {},
          "execution_count": 144
        }
      ]
    },
    {
      "cell_type": "code",
      "source": [
        "df['workclass'] = imputer.fit_transform(df[['workclass']])\n",
        "\n",
        "df['occupation'] = imputer.fit_transform(df[['occupation']])\n",
        "\n",
        "df['native-country'] = imputer.fit_transform(df[['native-country']])"
      ],
      "metadata": {
        "id": "JI9TOBqWU_yq"
      },
      "execution_count": 145,
      "outputs": []
    },
    {
      "cell_type": "code",
      "source": [
        "df.isna().sum()"
      ],
      "metadata": {
        "colab": {
          "base_uri": "https://localhost:8080/"
        },
        "id": "k_Vv3MXmVHO3",
        "outputId": "eb444d5e-fcf5-49e3-84c0-b42790e1ed02"
      },
      "execution_count": 146,
      "outputs": [
        {
          "output_type": "execute_result",
          "data": {
            "text/plain": [
              "age                0\n",
              "workclass          0\n",
              "fnlwgt             0\n",
              "educational-num    0\n",
              "marital-status     0\n",
              "occupation         0\n",
              "relationship       0\n",
              "race               0\n",
              "gender             0\n",
              "capital-gain       0\n",
              "capital-loss       0\n",
              "hours-per-week     0\n",
              "native-country     0\n",
              "income             0\n",
              "dtype: int64"
            ]
          },
          "metadata": {},
          "execution_count": 146
        }
      ]
    },
    {
      "cell_type": "markdown",
      "source": [
        "- There are no missing Values."
      ],
      "metadata": {
        "id": "3OEk2dtQVQL6"
      }
    },
    {
      "cell_type": "code",
      "source": [
        "# Performing the Column_transformation:\n",
        "encode = preprocessing.LabelEncoder()\n",
        "df['income'] = encode.fit_transform(df['income'])"
      ],
      "metadata": {
        "id": "2MHwA9jhVaCn"
      },
      "execution_count": 147,
      "outputs": []
    },
    {
      "cell_type": "code",
      "source": [
        "# Split Data\n",
        "x = df.drop('income',axis=1)\n",
        "y = df['income']"
      ],
      "metadata": {
        "id": "pt0za5mNViQD"
      },
      "execution_count": 148,
      "outputs": []
    },
    {
      "cell_type": "code",
      "source": [
        "x_train, x_test, y_train, y_test = train_test_split(x, y, random_state= 42)"
      ],
      "metadata": {
        "id": "PqHVg7KJVrEV"
      },
      "execution_count": 149,
      "outputs": []
    },
    {
      "cell_type": "code",
      "source": [
        "# Create Column Transformers\n",
        "transformer1 = ColumnTransformer(transformers=[\n",
        "    ('trs1',SimpleImputer(),[0,2,11]),\n",
        "    ('trs2',OrdinalEncoder(),[1,5]),\n",
        "    ('trs3',OneHotEncoder(),[4,6,7,8,12])\n",
        "],remainder='passthrough')\n",
        "transformer1"
      ],
      "metadata": {
        "colab": {
          "base_uri": "https://localhost:8080/",
          "height": 118
        },
        "id": "zHK6ZyfFVzNW",
        "outputId": "822045ec-6ed5-4f76-a284-87a05cdc156e"
      },
      "execution_count": 150,
      "outputs": [
        {
          "output_type": "execute_result",
          "data": {
            "text/plain": [
              "ColumnTransformer(remainder='passthrough',\n",
              "                  transformers=[('trs1', SimpleImputer(), [0, 2, 11]),\n",
              "                                ('trs2', OrdinalEncoder(), [1, 5]),\n",
              "                                ('trs3', OneHotEncoder(), [4, 6, 7, 8, 12])])"
            ],
            "text/html": [
              "<style>#sk-05ccd0be-c48b-47b1-b86f-064b8aaa3c62 {color: black;background-color: white;}#sk-05ccd0be-c48b-47b1-b86f-064b8aaa3c62 pre{padding: 0;}#sk-05ccd0be-c48b-47b1-b86f-064b8aaa3c62 div.sk-toggleable {background-color: white;}#sk-05ccd0be-c48b-47b1-b86f-064b8aaa3c62 label.sk-toggleable__label {cursor: pointer;display: block;width: 100%;margin-bottom: 0;padding: 0.3em;box-sizing: border-box;text-align: center;}#sk-05ccd0be-c48b-47b1-b86f-064b8aaa3c62 label.sk-toggleable__label-arrow:before {content: \"▸\";float: left;margin-right: 0.25em;color: #696969;}#sk-05ccd0be-c48b-47b1-b86f-064b8aaa3c62 label.sk-toggleable__label-arrow:hover:before {color: black;}#sk-05ccd0be-c48b-47b1-b86f-064b8aaa3c62 div.sk-estimator:hover label.sk-toggleable__label-arrow:before {color: black;}#sk-05ccd0be-c48b-47b1-b86f-064b8aaa3c62 div.sk-toggleable__content {max-height: 0;max-width: 0;overflow: hidden;text-align: left;background-color: #f0f8ff;}#sk-05ccd0be-c48b-47b1-b86f-064b8aaa3c62 div.sk-toggleable__content pre {margin: 0.2em;color: black;border-radius: 0.25em;background-color: #f0f8ff;}#sk-05ccd0be-c48b-47b1-b86f-064b8aaa3c62 input.sk-toggleable__control:checked~div.sk-toggleable__content {max-height: 200px;max-width: 100%;overflow: auto;}#sk-05ccd0be-c48b-47b1-b86f-064b8aaa3c62 input.sk-toggleable__control:checked~label.sk-toggleable__label-arrow:before {content: \"▾\";}#sk-05ccd0be-c48b-47b1-b86f-064b8aaa3c62 div.sk-estimator input.sk-toggleable__control:checked~label.sk-toggleable__label {background-color: #d4ebff;}#sk-05ccd0be-c48b-47b1-b86f-064b8aaa3c62 div.sk-label input.sk-toggleable__control:checked~label.sk-toggleable__label {background-color: #d4ebff;}#sk-05ccd0be-c48b-47b1-b86f-064b8aaa3c62 input.sk-hidden--visually {border: 0;clip: rect(1px 1px 1px 1px);clip: rect(1px, 1px, 1px, 1px);height: 1px;margin: -1px;overflow: hidden;padding: 0;position: absolute;width: 1px;}#sk-05ccd0be-c48b-47b1-b86f-064b8aaa3c62 div.sk-estimator {font-family: monospace;background-color: #f0f8ff;border: 1px dotted black;border-radius: 0.25em;box-sizing: border-box;margin-bottom: 0.5em;}#sk-05ccd0be-c48b-47b1-b86f-064b8aaa3c62 div.sk-estimator:hover {background-color: #d4ebff;}#sk-05ccd0be-c48b-47b1-b86f-064b8aaa3c62 div.sk-parallel-item::after {content: \"\";width: 100%;border-bottom: 1px solid gray;flex-grow: 1;}#sk-05ccd0be-c48b-47b1-b86f-064b8aaa3c62 div.sk-label:hover label.sk-toggleable__label {background-color: #d4ebff;}#sk-05ccd0be-c48b-47b1-b86f-064b8aaa3c62 div.sk-serial::before {content: \"\";position: absolute;border-left: 1px solid gray;box-sizing: border-box;top: 2em;bottom: 0;left: 50%;}#sk-05ccd0be-c48b-47b1-b86f-064b8aaa3c62 div.sk-serial {display: flex;flex-direction: column;align-items: center;background-color: white;padding-right: 0.2em;padding-left: 0.2em;}#sk-05ccd0be-c48b-47b1-b86f-064b8aaa3c62 div.sk-item {z-index: 1;}#sk-05ccd0be-c48b-47b1-b86f-064b8aaa3c62 div.sk-parallel {display: flex;align-items: stretch;justify-content: center;background-color: white;}#sk-05ccd0be-c48b-47b1-b86f-064b8aaa3c62 div.sk-parallel::before {content: \"\";position: absolute;border-left: 1px solid gray;box-sizing: border-box;top: 2em;bottom: 0;left: 50%;}#sk-05ccd0be-c48b-47b1-b86f-064b8aaa3c62 div.sk-parallel-item {display: flex;flex-direction: column;position: relative;background-color: white;}#sk-05ccd0be-c48b-47b1-b86f-064b8aaa3c62 div.sk-parallel-item:first-child::after {align-self: flex-end;width: 50%;}#sk-05ccd0be-c48b-47b1-b86f-064b8aaa3c62 div.sk-parallel-item:last-child::after {align-self: flex-start;width: 50%;}#sk-05ccd0be-c48b-47b1-b86f-064b8aaa3c62 div.sk-parallel-item:only-child::after {width: 0;}#sk-05ccd0be-c48b-47b1-b86f-064b8aaa3c62 div.sk-dashed-wrapped {border: 1px dashed gray;margin: 0 0.4em 0.5em 0.4em;box-sizing: border-box;padding-bottom: 0.4em;background-color: white;position: relative;}#sk-05ccd0be-c48b-47b1-b86f-064b8aaa3c62 div.sk-label label {font-family: monospace;font-weight: bold;background-color: white;display: inline-block;line-height: 1.2em;}#sk-05ccd0be-c48b-47b1-b86f-064b8aaa3c62 div.sk-label-container {position: relative;z-index: 2;text-align: center;}#sk-05ccd0be-c48b-47b1-b86f-064b8aaa3c62 div.sk-container {/* jupyter's `normalize.less` sets `[hidden] { display: none; }` but bootstrap.min.css set `[hidden] { display: none !important; }` so we also need the `!important` here to be able to override the default hidden behavior on the sphinx rendered scikit-learn.org. See: https://github.com/scikit-learn/scikit-learn/issues/21755 */display: inline-block !important;position: relative;}#sk-05ccd0be-c48b-47b1-b86f-064b8aaa3c62 div.sk-text-repr-fallback {display: none;}</style><div id=\"sk-05ccd0be-c48b-47b1-b86f-064b8aaa3c62\" class=\"sk-top-container\"><div class=\"sk-text-repr-fallback\"><pre>ColumnTransformer(remainder=&#x27;passthrough&#x27;,\n",
              "                  transformers=[(&#x27;trs1&#x27;, SimpleImputer(), [0, 2, 11]),\n",
              "                                (&#x27;trs2&#x27;, OrdinalEncoder(), [1, 5]),\n",
              "                                (&#x27;trs3&#x27;, OneHotEncoder(), [4, 6, 7, 8, 12])])</pre><b>Please rerun this cell to show the HTML repr or trust the notebook.</b></div><div class=\"sk-container\" hidden><div class=\"sk-item sk-dashed-wrapped\"><div class=\"sk-label-container\"><div class=\"sk-label sk-toggleable\"><input class=\"sk-toggleable__control sk-hidden--visually\" id=\"2cdbe598-1ce3-4133-980c-cfd5197260f1\" type=\"checkbox\" ><label for=\"2cdbe598-1ce3-4133-980c-cfd5197260f1\" class=\"sk-toggleable__label sk-toggleable__label-arrow\">ColumnTransformer</label><div class=\"sk-toggleable__content\"><pre>ColumnTransformer(remainder=&#x27;passthrough&#x27;,\n",
              "                  transformers=[(&#x27;trs1&#x27;, SimpleImputer(), [0, 2, 11]),\n",
              "                                (&#x27;trs2&#x27;, OrdinalEncoder(), [1, 5]),\n",
              "                                (&#x27;trs3&#x27;, OneHotEncoder(), [4, 6, 7, 8, 12])])</pre></div></div></div><div class=\"sk-parallel\"><div class=\"sk-parallel-item\"><div class=\"sk-item\"><div class=\"sk-label-container\"><div class=\"sk-label sk-toggleable\"><input class=\"sk-toggleable__control sk-hidden--visually\" id=\"6faa3e8d-7393-41a9-80ae-a60d96264ea1\" type=\"checkbox\" ><label for=\"6faa3e8d-7393-41a9-80ae-a60d96264ea1\" class=\"sk-toggleable__label sk-toggleable__label-arrow\">trs1</label><div class=\"sk-toggleable__content\"><pre>[0, 2, 11]</pre></div></div></div><div class=\"sk-serial\"><div class=\"sk-item\"><div class=\"sk-estimator sk-toggleable\"><input class=\"sk-toggleable__control sk-hidden--visually\" id=\"4fd240e7-c19b-4b6d-9dcc-a2081204771d\" type=\"checkbox\" ><label for=\"4fd240e7-c19b-4b6d-9dcc-a2081204771d\" class=\"sk-toggleable__label sk-toggleable__label-arrow\">SimpleImputer</label><div class=\"sk-toggleable__content\"><pre>SimpleImputer()</pre></div></div></div></div></div></div><div class=\"sk-parallel-item\"><div class=\"sk-item\"><div class=\"sk-label-container\"><div class=\"sk-label sk-toggleable\"><input class=\"sk-toggleable__control sk-hidden--visually\" id=\"d23234c8-f0cf-4181-9348-e53bcf34b160\" type=\"checkbox\" ><label for=\"d23234c8-f0cf-4181-9348-e53bcf34b160\" class=\"sk-toggleable__label sk-toggleable__label-arrow\">trs2</label><div class=\"sk-toggleable__content\"><pre>[1, 5]</pre></div></div></div><div class=\"sk-serial\"><div class=\"sk-item\"><div class=\"sk-estimator sk-toggleable\"><input class=\"sk-toggleable__control sk-hidden--visually\" id=\"3307fb01-b3e8-485f-9bf2-f1de55fd3b3e\" type=\"checkbox\" ><label for=\"3307fb01-b3e8-485f-9bf2-f1de55fd3b3e\" class=\"sk-toggleable__label sk-toggleable__label-arrow\">OrdinalEncoder</label><div class=\"sk-toggleable__content\"><pre>OrdinalEncoder()</pre></div></div></div></div></div></div><div class=\"sk-parallel-item\"><div class=\"sk-item\"><div class=\"sk-label-container\"><div class=\"sk-label sk-toggleable\"><input class=\"sk-toggleable__control sk-hidden--visually\" id=\"be2dcc07-989f-42ee-82fa-8b0cb5c10004\" type=\"checkbox\" ><label for=\"be2dcc07-989f-42ee-82fa-8b0cb5c10004\" class=\"sk-toggleable__label sk-toggleable__label-arrow\">trs3</label><div class=\"sk-toggleable__content\"><pre>[4, 6, 7, 8, 12]</pre></div></div></div><div class=\"sk-serial\"><div class=\"sk-item\"><div class=\"sk-estimator sk-toggleable\"><input class=\"sk-toggleable__control sk-hidden--visually\" id=\"942b309d-e818-43c4-acb0-e5156b7e4322\" type=\"checkbox\" ><label for=\"942b309d-e818-43c4-acb0-e5156b7e4322\" class=\"sk-toggleable__label sk-toggleable__label-arrow\">OneHotEncoder</label><div class=\"sk-toggleable__content\"><pre>OneHotEncoder()</pre></div></div></div></div></div></div><div class=\"sk-parallel-item\"><div class=\"sk-item\"><div class=\"sk-label-container\"><div class=\"sk-label sk-toggleable\"><input class=\"sk-toggleable__control sk-hidden--visually\" id=\"143867d0-bfa0-4d67-bb6b-34647b31b7e0\" type=\"checkbox\" ><label for=\"143867d0-bfa0-4d67-bb6b-34647b31b7e0\" class=\"sk-toggleable__label sk-toggleable__label-arrow\">remainder</label><div class=\"sk-toggleable__content\"><pre></pre></div></div></div><div class=\"sk-serial\"><div class=\"sk-item\"><div class=\"sk-estimator sk-toggleable\"><input class=\"sk-toggleable__control sk-hidden--visually\" id=\"c92e2d39-72f5-4072-9476-f0bd9575dc66\" type=\"checkbox\" ><label for=\"c92e2d39-72f5-4072-9476-f0bd9575dc66\" class=\"sk-toggleable__label sk-toggleable__label-arrow\">passthrough</label><div class=\"sk-toggleable__content\"><pre>passthrough</pre></div></div></div></div></div></div></div></div></div></div>"
            ]
          },
          "metadata": {},
          "execution_count": 150
        }
      ]
    },
    {
      "cell_type": "code",
      "source": [
        "# Creating Transformer Two\n",
        "transformer2 = RandomForestClassifier()\n",
        "transformer2"
      ],
      "metadata": {
        "colab": {
          "base_uri": "https://localhost:8080/",
          "height": 75
        },
        "id": "8INsJ9OSWd-p",
        "outputId": "eeeb2c8c-af22-44d2-b0a4-068953f7f92d"
      },
      "execution_count": 151,
      "outputs": [
        {
          "output_type": "execute_result",
          "data": {
            "text/plain": [
              "RandomForestClassifier()"
            ],
            "text/html": [
              "<style>#sk-12104d9d-f5fb-4ef1-9a44-9b66e5072f91 {color: black;background-color: white;}#sk-12104d9d-f5fb-4ef1-9a44-9b66e5072f91 pre{padding: 0;}#sk-12104d9d-f5fb-4ef1-9a44-9b66e5072f91 div.sk-toggleable {background-color: white;}#sk-12104d9d-f5fb-4ef1-9a44-9b66e5072f91 label.sk-toggleable__label {cursor: pointer;display: block;width: 100%;margin-bottom: 0;padding: 0.3em;box-sizing: border-box;text-align: center;}#sk-12104d9d-f5fb-4ef1-9a44-9b66e5072f91 label.sk-toggleable__label-arrow:before {content: \"▸\";float: left;margin-right: 0.25em;color: #696969;}#sk-12104d9d-f5fb-4ef1-9a44-9b66e5072f91 label.sk-toggleable__label-arrow:hover:before {color: black;}#sk-12104d9d-f5fb-4ef1-9a44-9b66e5072f91 div.sk-estimator:hover label.sk-toggleable__label-arrow:before {color: black;}#sk-12104d9d-f5fb-4ef1-9a44-9b66e5072f91 div.sk-toggleable__content {max-height: 0;max-width: 0;overflow: hidden;text-align: left;background-color: #f0f8ff;}#sk-12104d9d-f5fb-4ef1-9a44-9b66e5072f91 div.sk-toggleable__content pre {margin: 0.2em;color: black;border-radius: 0.25em;background-color: #f0f8ff;}#sk-12104d9d-f5fb-4ef1-9a44-9b66e5072f91 input.sk-toggleable__control:checked~div.sk-toggleable__content {max-height: 200px;max-width: 100%;overflow: auto;}#sk-12104d9d-f5fb-4ef1-9a44-9b66e5072f91 input.sk-toggleable__control:checked~label.sk-toggleable__label-arrow:before {content: \"▾\";}#sk-12104d9d-f5fb-4ef1-9a44-9b66e5072f91 div.sk-estimator input.sk-toggleable__control:checked~label.sk-toggleable__label {background-color: #d4ebff;}#sk-12104d9d-f5fb-4ef1-9a44-9b66e5072f91 div.sk-label input.sk-toggleable__control:checked~label.sk-toggleable__label {background-color: #d4ebff;}#sk-12104d9d-f5fb-4ef1-9a44-9b66e5072f91 input.sk-hidden--visually {border: 0;clip: rect(1px 1px 1px 1px);clip: rect(1px, 1px, 1px, 1px);height: 1px;margin: -1px;overflow: hidden;padding: 0;position: absolute;width: 1px;}#sk-12104d9d-f5fb-4ef1-9a44-9b66e5072f91 div.sk-estimator {font-family: monospace;background-color: #f0f8ff;border: 1px dotted black;border-radius: 0.25em;box-sizing: border-box;margin-bottom: 0.5em;}#sk-12104d9d-f5fb-4ef1-9a44-9b66e5072f91 div.sk-estimator:hover {background-color: #d4ebff;}#sk-12104d9d-f5fb-4ef1-9a44-9b66e5072f91 div.sk-parallel-item::after {content: \"\";width: 100%;border-bottom: 1px solid gray;flex-grow: 1;}#sk-12104d9d-f5fb-4ef1-9a44-9b66e5072f91 div.sk-label:hover label.sk-toggleable__label {background-color: #d4ebff;}#sk-12104d9d-f5fb-4ef1-9a44-9b66e5072f91 div.sk-serial::before {content: \"\";position: absolute;border-left: 1px solid gray;box-sizing: border-box;top: 2em;bottom: 0;left: 50%;}#sk-12104d9d-f5fb-4ef1-9a44-9b66e5072f91 div.sk-serial {display: flex;flex-direction: column;align-items: center;background-color: white;padding-right: 0.2em;padding-left: 0.2em;}#sk-12104d9d-f5fb-4ef1-9a44-9b66e5072f91 div.sk-item {z-index: 1;}#sk-12104d9d-f5fb-4ef1-9a44-9b66e5072f91 div.sk-parallel {display: flex;align-items: stretch;justify-content: center;background-color: white;}#sk-12104d9d-f5fb-4ef1-9a44-9b66e5072f91 div.sk-parallel::before {content: \"\";position: absolute;border-left: 1px solid gray;box-sizing: border-box;top: 2em;bottom: 0;left: 50%;}#sk-12104d9d-f5fb-4ef1-9a44-9b66e5072f91 div.sk-parallel-item {display: flex;flex-direction: column;position: relative;background-color: white;}#sk-12104d9d-f5fb-4ef1-9a44-9b66e5072f91 div.sk-parallel-item:first-child::after {align-self: flex-end;width: 50%;}#sk-12104d9d-f5fb-4ef1-9a44-9b66e5072f91 div.sk-parallel-item:last-child::after {align-self: flex-start;width: 50%;}#sk-12104d9d-f5fb-4ef1-9a44-9b66e5072f91 div.sk-parallel-item:only-child::after {width: 0;}#sk-12104d9d-f5fb-4ef1-9a44-9b66e5072f91 div.sk-dashed-wrapped {border: 1px dashed gray;margin: 0 0.4em 0.5em 0.4em;box-sizing: border-box;padding-bottom: 0.4em;background-color: white;position: relative;}#sk-12104d9d-f5fb-4ef1-9a44-9b66e5072f91 div.sk-label label {font-family: monospace;font-weight: bold;background-color: white;display: inline-block;line-height: 1.2em;}#sk-12104d9d-f5fb-4ef1-9a44-9b66e5072f91 div.sk-label-container {position: relative;z-index: 2;text-align: center;}#sk-12104d9d-f5fb-4ef1-9a44-9b66e5072f91 div.sk-container {/* jupyter's `normalize.less` sets `[hidden] { display: none; }` but bootstrap.min.css set `[hidden] { display: none !important; }` so we also need the `!important` here to be able to override the default hidden behavior on the sphinx rendered scikit-learn.org. See: https://github.com/scikit-learn/scikit-learn/issues/21755 */display: inline-block !important;position: relative;}#sk-12104d9d-f5fb-4ef1-9a44-9b66e5072f91 div.sk-text-repr-fallback {display: none;}</style><div id=\"sk-12104d9d-f5fb-4ef1-9a44-9b66e5072f91\" class=\"sk-top-container\"><div class=\"sk-text-repr-fallback\"><pre>RandomForestClassifier()</pre><b>Please rerun this cell to show the HTML repr or trust the notebook.</b></div><div class=\"sk-container\" hidden><div class=\"sk-item\"><div class=\"sk-estimator sk-toggleable\"><input class=\"sk-toggleable__control sk-hidden--visually\" id=\"bcbca898-fd2b-4d90-8ca8-ef007db0909c\" type=\"checkbox\" checked><label for=\"bcbca898-fd2b-4d90-8ca8-ef007db0909c\" class=\"sk-toggleable__label sk-toggleable__label-arrow\">RandomForestClassifier</label><div class=\"sk-toggleable__content\"><pre>RandomForestClassifier()</pre></div></div></div></div></div>"
            ]
          },
          "metadata": {},
          "execution_count": 151
        }
      ]
    },
    {
      "cell_type": "code",
      "source": [
        "# Createing Pipeline\n",
        "pipe = Pipeline([\n",
        "    ('transformer1',transformer1),\n",
        "    ('transformer2',transformer2)\n",
        "    ])\n",
        "pipe"
      ],
      "metadata": {
        "colab": {
          "base_uri": "https://localhost:8080/",
          "height": 192
        },
        "id": "0aHFT8d3WVLR",
        "outputId": "de9f56bb-960b-4560-d525-c0b9b57f960b"
      },
      "execution_count": 152,
      "outputs": [
        {
          "output_type": "execute_result",
          "data": {
            "text/plain": [
              "Pipeline(steps=[('transformer1',\n",
              "                 ColumnTransformer(remainder='passthrough',\n",
              "                                   transformers=[('trs1', SimpleImputer(),\n",
              "                                                  [0, 2, 11]),\n",
              "                                                 ('trs2', OrdinalEncoder(),\n",
              "                                                  [1, 5]),\n",
              "                                                 ('trs3', OneHotEncoder(),\n",
              "                                                  [4, 6, 7, 8, 12])])),\n",
              "                ('transformer2', RandomForestClassifier())])"
            ],
            "text/html": [
              "<style>#sk-13091555-b47c-4f17-94d7-f7f54b95d865 {color: black;background-color: white;}#sk-13091555-b47c-4f17-94d7-f7f54b95d865 pre{padding: 0;}#sk-13091555-b47c-4f17-94d7-f7f54b95d865 div.sk-toggleable {background-color: white;}#sk-13091555-b47c-4f17-94d7-f7f54b95d865 label.sk-toggleable__label {cursor: pointer;display: block;width: 100%;margin-bottom: 0;padding: 0.3em;box-sizing: border-box;text-align: center;}#sk-13091555-b47c-4f17-94d7-f7f54b95d865 label.sk-toggleable__label-arrow:before {content: \"▸\";float: left;margin-right: 0.25em;color: #696969;}#sk-13091555-b47c-4f17-94d7-f7f54b95d865 label.sk-toggleable__label-arrow:hover:before {color: black;}#sk-13091555-b47c-4f17-94d7-f7f54b95d865 div.sk-estimator:hover label.sk-toggleable__label-arrow:before {color: black;}#sk-13091555-b47c-4f17-94d7-f7f54b95d865 div.sk-toggleable__content {max-height: 0;max-width: 0;overflow: hidden;text-align: left;background-color: #f0f8ff;}#sk-13091555-b47c-4f17-94d7-f7f54b95d865 div.sk-toggleable__content pre {margin: 0.2em;color: black;border-radius: 0.25em;background-color: #f0f8ff;}#sk-13091555-b47c-4f17-94d7-f7f54b95d865 input.sk-toggleable__control:checked~div.sk-toggleable__content {max-height: 200px;max-width: 100%;overflow: auto;}#sk-13091555-b47c-4f17-94d7-f7f54b95d865 input.sk-toggleable__control:checked~label.sk-toggleable__label-arrow:before {content: \"▾\";}#sk-13091555-b47c-4f17-94d7-f7f54b95d865 div.sk-estimator input.sk-toggleable__control:checked~label.sk-toggleable__label {background-color: #d4ebff;}#sk-13091555-b47c-4f17-94d7-f7f54b95d865 div.sk-label input.sk-toggleable__control:checked~label.sk-toggleable__label {background-color: #d4ebff;}#sk-13091555-b47c-4f17-94d7-f7f54b95d865 input.sk-hidden--visually {border: 0;clip: rect(1px 1px 1px 1px);clip: rect(1px, 1px, 1px, 1px);height: 1px;margin: -1px;overflow: hidden;padding: 0;position: absolute;width: 1px;}#sk-13091555-b47c-4f17-94d7-f7f54b95d865 div.sk-estimator {font-family: monospace;background-color: #f0f8ff;border: 1px dotted black;border-radius: 0.25em;box-sizing: border-box;margin-bottom: 0.5em;}#sk-13091555-b47c-4f17-94d7-f7f54b95d865 div.sk-estimator:hover {background-color: #d4ebff;}#sk-13091555-b47c-4f17-94d7-f7f54b95d865 div.sk-parallel-item::after {content: \"\";width: 100%;border-bottom: 1px solid gray;flex-grow: 1;}#sk-13091555-b47c-4f17-94d7-f7f54b95d865 div.sk-label:hover label.sk-toggleable__label {background-color: #d4ebff;}#sk-13091555-b47c-4f17-94d7-f7f54b95d865 div.sk-serial::before {content: \"\";position: absolute;border-left: 1px solid gray;box-sizing: border-box;top: 2em;bottom: 0;left: 50%;}#sk-13091555-b47c-4f17-94d7-f7f54b95d865 div.sk-serial {display: flex;flex-direction: column;align-items: center;background-color: white;padding-right: 0.2em;padding-left: 0.2em;}#sk-13091555-b47c-4f17-94d7-f7f54b95d865 div.sk-item {z-index: 1;}#sk-13091555-b47c-4f17-94d7-f7f54b95d865 div.sk-parallel {display: flex;align-items: stretch;justify-content: center;background-color: white;}#sk-13091555-b47c-4f17-94d7-f7f54b95d865 div.sk-parallel::before {content: \"\";position: absolute;border-left: 1px solid gray;box-sizing: border-box;top: 2em;bottom: 0;left: 50%;}#sk-13091555-b47c-4f17-94d7-f7f54b95d865 div.sk-parallel-item {display: flex;flex-direction: column;position: relative;background-color: white;}#sk-13091555-b47c-4f17-94d7-f7f54b95d865 div.sk-parallel-item:first-child::after {align-self: flex-end;width: 50%;}#sk-13091555-b47c-4f17-94d7-f7f54b95d865 div.sk-parallel-item:last-child::after {align-self: flex-start;width: 50%;}#sk-13091555-b47c-4f17-94d7-f7f54b95d865 div.sk-parallel-item:only-child::after {width: 0;}#sk-13091555-b47c-4f17-94d7-f7f54b95d865 div.sk-dashed-wrapped {border: 1px dashed gray;margin: 0 0.4em 0.5em 0.4em;box-sizing: border-box;padding-bottom: 0.4em;background-color: white;position: relative;}#sk-13091555-b47c-4f17-94d7-f7f54b95d865 div.sk-label label {font-family: monospace;font-weight: bold;background-color: white;display: inline-block;line-height: 1.2em;}#sk-13091555-b47c-4f17-94d7-f7f54b95d865 div.sk-label-container {position: relative;z-index: 2;text-align: center;}#sk-13091555-b47c-4f17-94d7-f7f54b95d865 div.sk-container {/* jupyter's `normalize.less` sets `[hidden] { display: none; }` but bootstrap.min.css set `[hidden] { display: none !important; }` so we also need the `!important` here to be able to override the default hidden behavior on the sphinx rendered scikit-learn.org. See: https://github.com/scikit-learn/scikit-learn/issues/21755 */display: inline-block !important;position: relative;}#sk-13091555-b47c-4f17-94d7-f7f54b95d865 div.sk-text-repr-fallback {display: none;}</style><div id=\"sk-13091555-b47c-4f17-94d7-f7f54b95d865\" class=\"sk-top-container\"><div class=\"sk-text-repr-fallback\"><pre>Pipeline(steps=[(&#x27;transformer1&#x27;,\n",
              "                 ColumnTransformer(remainder=&#x27;passthrough&#x27;,\n",
              "                                   transformers=[(&#x27;trs1&#x27;, SimpleImputer(),\n",
              "                                                  [0, 2, 11]),\n",
              "                                                 (&#x27;trs2&#x27;, OrdinalEncoder(),\n",
              "                                                  [1, 5]),\n",
              "                                                 (&#x27;trs3&#x27;, OneHotEncoder(),\n",
              "                                                  [4, 6, 7, 8, 12])])),\n",
              "                (&#x27;transformer2&#x27;, RandomForestClassifier())])</pre><b>Please rerun this cell to show the HTML repr or trust the notebook.</b></div><div class=\"sk-container\" hidden><div class=\"sk-item sk-dashed-wrapped\"><div class=\"sk-label-container\"><div class=\"sk-label sk-toggleable\"><input class=\"sk-toggleable__control sk-hidden--visually\" id=\"82a6adda-438d-4196-9bac-25a69c30034c\" type=\"checkbox\" ><label for=\"82a6adda-438d-4196-9bac-25a69c30034c\" class=\"sk-toggleable__label sk-toggleable__label-arrow\">Pipeline</label><div class=\"sk-toggleable__content\"><pre>Pipeline(steps=[(&#x27;transformer1&#x27;,\n",
              "                 ColumnTransformer(remainder=&#x27;passthrough&#x27;,\n",
              "                                   transformers=[(&#x27;trs1&#x27;, SimpleImputer(),\n",
              "                                                  [0, 2, 11]),\n",
              "                                                 (&#x27;trs2&#x27;, OrdinalEncoder(),\n",
              "                                                  [1, 5]),\n",
              "                                                 (&#x27;trs3&#x27;, OneHotEncoder(),\n",
              "                                                  [4, 6, 7, 8, 12])])),\n",
              "                (&#x27;transformer2&#x27;, RandomForestClassifier())])</pre></div></div></div><div class=\"sk-serial\"><div class=\"sk-item sk-dashed-wrapped\"><div class=\"sk-label-container\"><div class=\"sk-label sk-toggleable\"><input class=\"sk-toggleable__control sk-hidden--visually\" id=\"9721cd66-1be6-4485-989c-e3573401a41e\" type=\"checkbox\" ><label for=\"9721cd66-1be6-4485-989c-e3573401a41e\" class=\"sk-toggleable__label sk-toggleable__label-arrow\">transformer1: ColumnTransformer</label><div class=\"sk-toggleable__content\"><pre>ColumnTransformer(remainder=&#x27;passthrough&#x27;,\n",
              "                  transformers=[(&#x27;trs1&#x27;, SimpleImputer(), [0, 2, 11]),\n",
              "                                (&#x27;trs2&#x27;, OrdinalEncoder(), [1, 5]),\n",
              "                                (&#x27;trs3&#x27;, OneHotEncoder(), [4, 6, 7, 8, 12])])</pre></div></div></div><div class=\"sk-parallel\"><div class=\"sk-parallel-item\"><div class=\"sk-item\"><div class=\"sk-label-container\"><div class=\"sk-label sk-toggleable\"><input class=\"sk-toggleable__control sk-hidden--visually\" id=\"99876ed6-3515-4186-98cb-33b4eaac9bf4\" type=\"checkbox\" ><label for=\"99876ed6-3515-4186-98cb-33b4eaac9bf4\" class=\"sk-toggleable__label sk-toggleable__label-arrow\">trs1</label><div class=\"sk-toggleable__content\"><pre>[0, 2, 11]</pre></div></div></div><div class=\"sk-serial\"><div class=\"sk-item\"><div class=\"sk-estimator sk-toggleable\"><input class=\"sk-toggleable__control sk-hidden--visually\" id=\"3afda15e-8d25-433c-8d1a-f040a8035935\" type=\"checkbox\" ><label for=\"3afda15e-8d25-433c-8d1a-f040a8035935\" class=\"sk-toggleable__label sk-toggleable__label-arrow\">SimpleImputer</label><div class=\"sk-toggleable__content\"><pre>SimpleImputer()</pre></div></div></div></div></div></div><div class=\"sk-parallel-item\"><div class=\"sk-item\"><div class=\"sk-label-container\"><div class=\"sk-label sk-toggleable\"><input class=\"sk-toggleable__control sk-hidden--visually\" id=\"469223fd-1d26-4356-8208-b6f49bf0d36d\" type=\"checkbox\" ><label for=\"469223fd-1d26-4356-8208-b6f49bf0d36d\" class=\"sk-toggleable__label sk-toggleable__label-arrow\">trs2</label><div class=\"sk-toggleable__content\"><pre>[1, 5]</pre></div></div></div><div class=\"sk-serial\"><div class=\"sk-item\"><div class=\"sk-estimator sk-toggleable\"><input class=\"sk-toggleable__control sk-hidden--visually\" id=\"0f44f3a2-d55d-45a6-8a57-acefc5f09880\" type=\"checkbox\" ><label for=\"0f44f3a2-d55d-45a6-8a57-acefc5f09880\" class=\"sk-toggleable__label sk-toggleable__label-arrow\">OrdinalEncoder</label><div class=\"sk-toggleable__content\"><pre>OrdinalEncoder()</pre></div></div></div></div></div></div><div class=\"sk-parallel-item\"><div class=\"sk-item\"><div class=\"sk-label-container\"><div class=\"sk-label sk-toggleable\"><input class=\"sk-toggleable__control sk-hidden--visually\" id=\"6abe2412-42bf-4bc6-abdf-7db89fbae99d\" type=\"checkbox\" ><label for=\"6abe2412-42bf-4bc6-abdf-7db89fbae99d\" class=\"sk-toggleable__label sk-toggleable__label-arrow\">trs3</label><div class=\"sk-toggleable__content\"><pre>[4, 6, 7, 8, 12]</pre></div></div></div><div class=\"sk-serial\"><div class=\"sk-item\"><div class=\"sk-estimator sk-toggleable\"><input class=\"sk-toggleable__control sk-hidden--visually\" id=\"c59bb621-f793-4bda-9271-05a3131f06fa\" type=\"checkbox\" ><label for=\"c59bb621-f793-4bda-9271-05a3131f06fa\" class=\"sk-toggleable__label sk-toggleable__label-arrow\">OneHotEncoder</label><div class=\"sk-toggleable__content\"><pre>OneHotEncoder()</pre></div></div></div></div></div></div><div class=\"sk-parallel-item\"><div class=\"sk-item\"><div class=\"sk-label-container\"><div class=\"sk-label sk-toggleable\"><input class=\"sk-toggleable__control sk-hidden--visually\" id=\"f14237ce-aafb-43c5-b253-4c2641b668ce\" type=\"checkbox\" ><label for=\"f14237ce-aafb-43c5-b253-4c2641b668ce\" class=\"sk-toggleable__label sk-toggleable__label-arrow\">remainder</label><div class=\"sk-toggleable__content\"><pre></pre></div></div></div><div class=\"sk-serial\"><div class=\"sk-item\"><div class=\"sk-estimator sk-toggleable\"><input class=\"sk-toggleable__control sk-hidden--visually\" id=\"d533fd54-c15f-4de5-adb1-1a6cd2ec8903\" type=\"checkbox\" ><label for=\"d533fd54-c15f-4de5-adb1-1a6cd2ec8903\" class=\"sk-toggleable__label sk-toggleable__label-arrow\">passthrough</label><div class=\"sk-toggleable__content\"><pre>passthrough</pre></div></div></div></div></div></div></div></div><div class=\"sk-item\"><div class=\"sk-estimator sk-toggleable\"><input class=\"sk-toggleable__control sk-hidden--visually\" id=\"b48981e5-ac63-4fe7-aab2-c8d54f51b03b\" type=\"checkbox\" ><label for=\"b48981e5-ac63-4fe7-aab2-c8d54f51b03b\" class=\"sk-toggleable__label sk-toggleable__label-arrow\">RandomForestClassifier</label><div class=\"sk-toggleable__content\"><pre>RandomForestClassifier()</pre></div></div></div></div></div></div></div>"
            ]
          },
          "metadata": {},
          "execution_count": 152
        }
      ]
    },
    {
      "cell_type": "code",
      "source": [
        "# Fitting the Pipline\n",
        "pipe.fit(x_train,y_train)"
      ],
      "metadata": {
        "colab": {
          "base_uri": "https://localhost:8080/",
          "height": 192
        },
        "id": "Ppzc3aumWNY6",
        "outputId": "ab5b9258-9d1e-425f-f9ca-87bd76cb280e"
      },
      "execution_count": 153,
      "outputs": [
        {
          "output_type": "execute_result",
          "data": {
            "text/plain": [
              "Pipeline(steps=[('transformer1',\n",
              "                 ColumnTransformer(remainder='passthrough',\n",
              "                                   transformers=[('trs1', SimpleImputer(),\n",
              "                                                  [0, 2, 11]),\n",
              "                                                 ('trs2', OrdinalEncoder(),\n",
              "                                                  [1, 5]),\n",
              "                                                 ('trs3', OneHotEncoder(),\n",
              "                                                  [4, 6, 7, 8, 12])])),\n",
              "                ('transformer2', RandomForestClassifier())])"
            ],
            "text/html": [
              "<style>#sk-4566b4a9-42b4-49ac-9d05-4a73a9cff9d6 {color: black;background-color: white;}#sk-4566b4a9-42b4-49ac-9d05-4a73a9cff9d6 pre{padding: 0;}#sk-4566b4a9-42b4-49ac-9d05-4a73a9cff9d6 div.sk-toggleable {background-color: white;}#sk-4566b4a9-42b4-49ac-9d05-4a73a9cff9d6 label.sk-toggleable__label {cursor: pointer;display: block;width: 100%;margin-bottom: 0;padding: 0.3em;box-sizing: border-box;text-align: center;}#sk-4566b4a9-42b4-49ac-9d05-4a73a9cff9d6 label.sk-toggleable__label-arrow:before {content: \"▸\";float: left;margin-right: 0.25em;color: #696969;}#sk-4566b4a9-42b4-49ac-9d05-4a73a9cff9d6 label.sk-toggleable__label-arrow:hover:before {color: black;}#sk-4566b4a9-42b4-49ac-9d05-4a73a9cff9d6 div.sk-estimator:hover label.sk-toggleable__label-arrow:before {color: black;}#sk-4566b4a9-42b4-49ac-9d05-4a73a9cff9d6 div.sk-toggleable__content {max-height: 0;max-width: 0;overflow: hidden;text-align: left;background-color: #f0f8ff;}#sk-4566b4a9-42b4-49ac-9d05-4a73a9cff9d6 div.sk-toggleable__content pre {margin: 0.2em;color: black;border-radius: 0.25em;background-color: #f0f8ff;}#sk-4566b4a9-42b4-49ac-9d05-4a73a9cff9d6 input.sk-toggleable__control:checked~div.sk-toggleable__content {max-height: 200px;max-width: 100%;overflow: auto;}#sk-4566b4a9-42b4-49ac-9d05-4a73a9cff9d6 input.sk-toggleable__control:checked~label.sk-toggleable__label-arrow:before {content: \"▾\";}#sk-4566b4a9-42b4-49ac-9d05-4a73a9cff9d6 div.sk-estimator input.sk-toggleable__control:checked~label.sk-toggleable__label {background-color: #d4ebff;}#sk-4566b4a9-42b4-49ac-9d05-4a73a9cff9d6 div.sk-label input.sk-toggleable__control:checked~label.sk-toggleable__label {background-color: #d4ebff;}#sk-4566b4a9-42b4-49ac-9d05-4a73a9cff9d6 input.sk-hidden--visually {border: 0;clip: rect(1px 1px 1px 1px);clip: rect(1px, 1px, 1px, 1px);height: 1px;margin: -1px;overflow: hidden;padding: 0;position: absolute;width: 1px;}#sk-4566b4a9-42b4-49ac-9d05-4a73a9cff9d6 div.sk-estimator {font-family: monospace;background-color: #f0f8ff;border: 1px dotted black;border-radius: 0.25em;box-sizing: border-box;margin-bottom: 0.5em;}#sk-4566b4a9-42b4-49ac-9d05-4a73a9cff9d6 div.sk-estimator:hover {background-color: #d4ebff;}#sk-4566b4a9-42b4-49ac-9d05-4a73a9cff9d6 div.sk-parallel-item::after {content: \"\";width: 100%;border-bottom: 1px solid gray;flex-grow: 1;}#sk-4566b4a9-42b4-49ac-9d05-4a73a9cff9d6 div.sk-label:hover label.sk-toggleable__label {background-color: #d4ebff;}#sk-4566b4a9-42b4-49ac-9d05-4a73a9cff9d6 div.sk-serial::before {content: \"\";position: absolute;border-left: 1px solid gray;box-sizing: border-box;top: 2em;bottom: 0;left: 50%;}#sk-4566b4a9-42b4-49ac-9d05-4a73a9cff9d6 div.sk-serial {display: flex;flex-direction: column;align-items: center;background-color: white;padding-right: 0.2em;padding-left: 0.2em;}#sk-4566b4a9-42b4-49ac-9d05-4a73a9cff9d6 div.sk-item {z-index: 1;}#sk-4566b4a9-42b4-49ac-9d05-4a73a9cff9d6 div.sk-parallel {display: flex;align-items: stretch;justify-content: center;background-color: white;}#sk-4566b4a9-42b4-49ac-9d05-4a73a9cff9d6 div.sk-parallel::before {content: \"\";position: absolute;border-left: 1px solid gray;box-sizing: border-box;top: 2em;bottom: 0;left: 50%;}#sk-4566b4a9-42b4-49ac-9d05-4a73a9cff9d6 div.sk-parallel-item {display: flex;flex-direction: column;position: relative;background-color: white;}#sk-4566b4a9-42b4-49ac-9d05-4a73a9cff9d6 div.sk-parallel-item:first-child::after {align-self: flex-end;width: 50%;}#sk-4566b4a9-42b4-49ac-9d05-4a73a9cff9d6 div.sk-parallel-item:last-child::after {align-self: flex-start;width: 50%;}#sk-4566b4a9-42b4-49ac-9d05-4a73a9cff9d6 div.sk-parallel-item:only-child::after {width: 0;}#sk-4566b4a9-42b4-49ac-9d05-4a73a9cff9d6 div.sk-dashed-wrapped {border: 1px dashed gray;margin: 0 0.4em 0.5em 0.4em;box-sizing: border-box;padding-bottom: 0.4em;background-color: white;position: relative;}#sk-4566b4a9-42b4-49ac-9d05-4a73a9cff9d6 div.sk-label label {font-family: monospace;font-weight: bold;background-color: white;display: inline-block;line-height: 1.2em;}#sk-4566b4a9-42b4-49ac-9d05-4a73a9cff9d6 div.sk-label-container {position: relative;z-index: 2;text-align: center;}#sk-4566b4a9-42b4-49ac-9d05-4a73a9cff9d6 div.sk-container {/* jupyter's `normalize.less` sets `[hidden] { display: none; }` but bootstrap.min.css set `[hidden] { display: none !important; }` so we also need the `!important` here to be able to override the default hidden behavior on the sphinx rendered scikit-learn.org. See: https://github.com/scikit-learn/scikit-learn/issues/21755 */display: inline-block !important;position: relative;}#sk-4566b4a9-42b4-49ac-9d05-4a73a9cff9d6 div.sk-text-repr-fallback {display: none;}</style><div id=\"sk-4566b4a9-42b4-49ac-9d05-4a73a9cff9d6\" class=\"sk-top-container\"><div class=\"sk-text-repr-fallback\"><pre>Pipeline(steps=[(&#x27;transformer1&#x27;,\n",
              "                 ColumnTransformer(remainder=&#x27;passthrough&#x27;,\n",
              "                                   transformers=[(&#x27;trs1&#x27;, SimpleImputer(),\n",
              "                                                  [0, 2, 11]),\n",
              "                                                 (&#x27;trs2&#x27;, OrdinalEncoder(),\n",
              "                                                  [1, 5]),\n",
              "                                                 (&#x27;trs3&#x27;, OneHotEncoder(),\n",
              "                                                  [4, 6, 7, 8, 12])])),\n",
              "                (&#x27;transformer2&#x27;, RandomForestClassifier())])</pre><b>Please rerun this cell to show the HTML repr or trust the notebook.</b></div><div class=\"sk-container\" hidden><div class=\"sk-item sk-dashed-wrapped\"><div class=\"sk-label-container\"><div class=\"sk-label sk-toggleable\"><input class=\"sk-toggleable__control sk-hidden--visually\" id=\"1dba41a6-ce44-4939-b5e5-b14ec461a5b9\" type=\"checkbox\" ><label for=\"1dba41a6-ce44-4939-b5e5-b14ec461a5b9\" class=\"sk-toggleable__label sk-toggleable__label-arrow\">Pipeline</label><div class=\"sk-toggleable__content\"><pre>Pipeline(steps=[(&#x27;transformer1&#x27;,\n",
              "                 ColumnTransformer(remainder=&#x27;passthrough&#x27;,\n",
              "                                   transformers=[(&#x27;trs1&#x27;, SimpleImputer(),\n",
              "                                                  [0, 2, 11]),\n",
              "                                                 (&#x27;trs2&#x27;, OrdinalEncoder(),\n",
              "                                                  [1, 5]),\n",
              "                                                 (&#x27;trs3&#x27;, OneHotEncoder(),\n",
              "                                                  [4, 6, 7, 8, 12])])),\n",
              "                (&#x27;transformer2&#x27;, RandomForestClassifier())])</pre></div></div></div><div class=\"sk-serial\"><div class=\"sk-item sk-dashed-wrapped\"><div class=\"sk-label-container\"><div class=\"sk-label sk-toggleable\"><input class=\"sk-toggleable__control sk-hidden--visually\" id=\"cf7647c8-a309-4412-873a-18ea2f3eb65e\" type=\"checkbox\" ><label for=\"cf7647c8-a309-4412-873a-18ea2f3eb65e\" class=\"sk-toggleable__label sk-toggleable__label-arrow\">transformer1: ColumnTransformer</label><div class=\"sk-toggleable__content\"><pre>ColumnTransformer(remainder=&#x27;passthrough&#x27;,\n",
              "                  transformers=[(&#x27;trs1&#x27;, SimpleImputer(), [0, 2, 11]),\n",
              "                                (&#x27;trs2&#x27;, OrdinalEncoder(), [1, 5]),\n",
              "                                (&#x27;trs3&#x27;, OneHotEncoder(), [4, 6, 7, 8, 12])])</pre></div></div></div><div class=\"sk-parallel\"><div class=\"sk-parallel-item\"><div class=\"sk-item\"><div class=\"sk-label-container\"><div class=\"sk-label sk-toggleable\"><input class=\"sk-toggleable__control sk-hidden--visually\" id=\"896239e8-0652-4f64-a15c-cad9f302c598\" type=\"checkbox\" ><label for=\"896239e8-0652-4f64-a15c-cad9f302c598\" class=\"sk-toggleable__label sk-toggleable__label-arrow\">trs1</label><div class=\"sk-toggleable__content\"><pre>[0, 2, 11]</pre></div></div></div><div class=\"sk-serial\"><div class=\"sk-item\"><div class=\"sk-estimator sk-toggleable\"><input class=\"sk-toggleable__control sk-hidden--visually\" id=\"ec650098-f70c-480c-88a2-3b8636575de7\" type=\"checkbox\" ><label for=\"ec650098-f70c-480c-88a2-3b8636575de7\" class=\"sk-toggleable__label sk-toggleable__label-arrow\">SimpleImputer</label><div class=\"sk-toggleable__content\"><pre>SimpleImputer()</pre></div></div></div></div></div></div><div class=\"sk-parallel-item\"><div class=\"sk-item\"><div class=\"sk-label-container\"><div class=\"sk-label sk-toggleable\"><input class=\"sk-toggleable__control sk-hidden--visually\" id=\"b49e66a4-60bd-4c54-b814-369727b4e009\" type=\"checkbox\" ><label for=\"b49e66a4-60bd-4c54-b814-369727b4e009\" class=\"sk-toggleable__label sk-toggleable__label-arrow\">trs2</label><div class=\"sk-toggleable__content\"><pre>[1, 5]</pre></div></div></div><div class=\"sk-serial\"><div class=\"sk-item\"><div class=\"sk-estimator sk-toggleable\"><input class=\"sk-toggleable__control sk-hidden--visually\" id=\"195fb6cf-263c-4c6c-bd92-e4f19586db19\" type=\"checkbox\" ><label for=\"195fb6cf-263c-4c6c-bd92-e4f19586db19\" class=\"sk-toggleable__label sk-toggleable__label-arrow\">OrdinalEncoder</label><div class=\"sk-toggleable__content\"><pre>OrdinalEncoder()</pre></div></div></div></div></div></div><div class=\"sk-parallel-item\"><div class=\"sk-item\"><div class=\"sk-label-container\"><div class=\"sk-label sk-toggleable\"><input class=\"sk-toggleable__control sk-hidden--visually\" id=\"f232a55b-5752-4dc4-a566-5f9d1ec02da4\" type=\"checkbox\" ><label for=\"f232a55b-5752-4dc4-a566-5f9d1ec02da4\" class=\"sk-toggleable__label sk-toggleable__label-arrow\">trs3</label><div class=\"sk-toggleable__content\"><pre>[4, 6, 7, 8, 12]</pre></div></div></div><div class=\"sk-serial\"><div class=\"sk-item\"><div class=\"sk-estimator sk-toggleable\"><input class=\"sk-toggleable__control sk-hidden--visually\" id=\"054e9970-507e-4794-b3cd-f011468fe438\" type=\"checkbox\" ><label for=\"054e9970-507e-4794-b3cd-f011468fe438\" class=\"sk-toggleable__label sk-toggleable__label-arrow\">OneHotEncoder</label><div class=\"sk-toggleable__content\"><pre>OneHotEncoder()</pre></div></div></div></div></div></div><div class=\"sk-parallel-item\"><div class=\"sk-item\"><div class=\"sk-label-container\"><div class=\"sk-label sk-toggleable\"><input class=\"sk-toggleable__control sk-hidden--visually\" id=\"9b843d53-37f5-4bbf-bd5c-52f5ca862a7b\" type=\"checkbox\" ><label for=\"9b843d53-37f5-4bbf-bd5c-52f5ca862a7b\" class=\"sk-toggleable__label sk-toggleable__label-arrow\">remainder</label><div class=\"sk-toggleable__content\"><pre>[&#x27;educational-num&#x27;, &#x27;capital-gain&#x27;, &#x27;capital-loss&#x27;]</pre></div></div></div><div class=\"sk-serial\"><div class=\"sk-item\"><div class=\"sk-estimator sk-toggleable\"><input class=\"sk-toggleable__control sk-hidden--visually\" id=\"f229a769-d6b1-4d4b-bb86-b18b569d697e\" type=\"checkbox\" ><label for=\"f229a769-d6b1-4d4b-bb86-b18b569d697e\" class=\"sk-toggleable__label sk-toggleable__label-arrow\">passthrough</label><div class=\"sk-toggleable__content\"><pre>passthrough</pre></div></div></div></div></div></div></div></div><div class=\"sk-item\"><div class=\"sk-estimator sk-toggleable\"><input class=\"sk-toggleable__control sk-hidden--visually\" id=\"2f39c952-de24-41af-a830-67687d09a75c\" type=\"checkbox\" ><label for=\"2f39c952-de24-41af-a830-67687d09a75c\" class=\"sk-toggleable__label sk-toggleable__label-arrow\">RandomForestClassifier</label><div class=\"sk-toggleable__content\"><pre>RandomForestClassifier()</pre></div></div></div></div></div></div></div>"
            ]
          },
          "metadata": {},
          "execution_count": 153
        }
      ]
    },
    {
      "cell_type": "code",
      "source": [
        "# Prediction\n",
        "y_pred = pipe.predict(x_test)\n",
        "y_pred"
      ],
      "metadata": {
        "colab": {
          "base_uri": "https://localhost:8080/"
        },
        "id": "5GEoJ5I_W7ow",
        "outputId": "aeb03233-5b99-4678-845a-f380db366a23"
      },
      "execution_count": 154,
      "outputs": [
        {
          "output_type": "execute_result",
          "data": {
            "text/plain": [
              "array([0, 0, 1, ..., 0, 0, 0])"
            ]
          },
          "metadata": {},
          "execution_count": 154
        }
      ]
    },
    {
      "cell_type": "code",
      "source": [
        "# Accuracy Check\n",
        "accuracy_score(y_test,y_pred)"
      ],
      "metadata": {
        "colab": {
          "base_uri": "https://localhost:8080/"
        },
        "id": "HxytFlWBXBji",
        "outputId": "d8bbb172-6a13-4e24-8805-f4ca7ec2bba8"
      },
      "execution_count": 155,
      "outputs": [
        {
          "output_type": "execute_result",
          "data": {
            "text/plain": [
              "0.8612067552057714"
            ]
          },
          "metadata": {},
          "execution_count": 155
        }
      ]
    },
    {
      "cell_type": "code",
      "source": [
        "#F1 Score Check\n",
        "f1_score(y_test,y_pred)"
      ],
      "metadata": {
        "colab": {
          "base_uri": "https://localhost:8080/"
        },
        "id": "qODbzj1VXEpJ",
        "outputId": "c970c669-0d29-40e9-910a-6e590b61a1bb"
      },
      "execution_count": 156,
      "outputs": [
        {
          "output_type": "execute_result",
          "data": {
            "text/plain": [
              "0.6828994193669226"
            ]
          },
          "metadata": {},
          "execution_count": 156
        }
      ]
    },
    {
      "cell_type": "markdown",
      "source": [
        "##**Univariate Visuals** "
      ],
      "metadata": {
        "id": "xLf4O6IuFL2d"
      }
    },
    {
      "cell_type": "code",
      "source": [
        "fig = plt.figure(figsize=(10,10)) \n",
        "sns.boxplot(x=\"age\", data=df)\n",
        "plt.show()"
      ],
      "metadata": {
        "colab": {
          "base_uri": "https://localhost:8080/",
          "height": 602
        },
        "id": "dyd2JHZ5vQ_g",
        "outputId": "ccb76a7c-5c18-42d7-d4ae-1bf0b4076697"
      },
      "execution_count": 157,
      "outputs": [
        {
          "output_type": "display_data",
          "data": {
            "text/plain": [
              "<Figure size 720x720 with 1 Axes>"
            ],
            "image/png": "[encoded data removed]"
          },
          "metadata": {
            "needs_background": "light"
          }
        }
      ]
    },
    {
      "cell_type": "code",
      "source": [
        "plt.figure(figsize=(15,8))\n",
        "total = float(len(df) )\n",
        "\n",
        "ax = sns.countplot(x=\"marital-status\", data=df)\n",
        "for p in ax.patches:\n",
        "    height = p.get_height()\n",
        "    ax.text(p.get_x()+p.get_width()/2.,\n",
        "            height + 3,\n",
        "            '{:1.2f}'.format((height/total)*100),\n",
        "            ha=\"center\") \n",
        "plt.show()"
      ],
      "metadata": {
        "colab": {
          "base_uri": "https://localhost:8080/",
          "height": 493
        },
        "id": "uCzUKjH0ytdR",
        "outputId": "712f40c0-ee4c-4715-a178-1e1217f24342"
      },
      "execution_count": 158,
      "outputs": [
        {
          "output_type": "display_data",
          "data": {
            "text/plain": [
              "<Figure size 1080x576 with 1 Axes>"
            ],
            "image/png": "[encoded data removed]"
          },
          "metadata": {
            "needs_background": "light"
          }
        }
      ]
    },
    {
      "cell_type": "code",
      "source": [
        "plt.figure(figsize=(12,8))\n",
        "\n",
        "total = float(len(df[\"income\"]) )\n",
        "\n",
        "ax = sns.countplot(x=\"workclass\", data=df)\n",
        "for p in ax.patches:\n",
        "    height = p.get_height()\n",
        "    ax.text(p.get_x()+p.get_width()/2.,\n",
        "            height + 3,\n",
        "            '{:1.2f}'.format((height/total)*100),\n",
        "            ha=\"center\") \n",
        "plt.show()"
      ],
      "metadata": {
        "colab": {
          "base_uri": "https://localhost:8080/",
          "height": 493
        },
        "id": "LJ4Al55vyUfw",
        "outputId": "66520451-c7fb-4512-f603-1fae143298d2"
      },
      "execution_count": 159,
      "outputs": [
        {
          "output_type": "display_data",
          "data": {
            "text/plain": [
              "<Figure size 864x576 with 1 Axes>"
            ],
            "image/png": "[encoded data removed]"
          },
          "metadata": {
            "needs_background": "light"
          }
        }
      ]
    },
    {
      "cell_type": "code",
      "source": [
        "plt.figure(figsize=(15,8))\n",
        "total = float(len(df) )\n",
        "\n",
        "ax = sns.countplot(x=\"educational-num\", data=df)\n",
        "for p in ax.patches:\n",
        "    height = p.get_height()\n",
        "    ax.text(p.get_x()+p.get_width()/2.,\n",
        "            height + 3,\n",
        "            '{:1.2f}'.format((height/total)*100),\n",
        "            ha=\"center\") \n",
        "plt.show()"
      ],
      "metadata": {
        "colab": {
          "base_uri": "https://localhost:8080/",
          "height": 493
        },
        "id": "Z4_73__gy5AV",
        "outputId": "d122c7cb-e63d-4051-82d0-a30228dac320"
      },
      "execution_count": 190,
      "outputs": [
        {
          "output_type": "display_data",
          "data": {
            "text/plain": [
              "<Figure size 1080x576 with 1 Axes>"
            ],
            "image/png": "[encoded data removed]"
          },
          "metadata": {
            "needs_background": "light"
          }
        }
      ]
    },
    {
      "cell_type": "code",
      "source": [
        "plt.figure(figsize=(8,8))\n",
        "total = float(len(df) )\n",
        "\n",
        "ax = sns.countplot(x=\"gender\", data=df)\n",
        "for p in ax.patches:\n",
        "    height = p.get_height()\n",
        "    ax.text(p.get_x()+p.get_width()/2.,\n",
        "            height + 3,\n",
        "            '{:1.2f}'.format((height/total)*100),\n",
        "            ha=\"center\") \n",
        "plt.show()"
      ],
      "metadata": {
        "colab": {
          "base_uri": "https://localhost:8080/",
          "height": 493
        },
        "id": "JfdgNnqWzGYC",
        "outputId": "8d4ee9da-18f4-4e53-9abf-b25b3b5880db"
      },
      "execution_count": 161,
      "outputs": [
        {
          "output_type": "display_data",
          "data": {
            "text/plain": [
              "<Figure size 576x576 with 1 Axes>"
            ],
            "image/png": "[encoded data removed]"
          },
          "metadata": {
            "needs_background": "light"
          }
        }
      ]
    },
    {
      "cell_type": "markdown",
      "source": [
        "## **3. Correlation and Heat Maps**"
      ],
      "metadata": {
        "id": "iDGNiaie7rjq"
      }
    },
    {
      "cell_type": "code",
      "source": [
        "def correlation_heatmap(df):\n",
        "    _ , ax = plt.subplots(figsize =(14, 12))\n",
        "    colormap = sns.diverging_palette(220, 10, as_cmap = True)\n",
        "    \n",
        "    _ = sns.heatmap(\n",
        "        df.corr(), \n",
        "        cmap = \"YlGn\",\n",
        "        square=True, \n",
        "        cbar_kws={'shrink':.9 }, \n",
        "        ax=ax,\n",
        "        annot=True, \n",
        "        linewidths=0.1,vmax=1.0, linecolor='white',\n",
        "        annot_kws={'fontsize':12 }\n",
        "    )\n",
        "    \n",
        "    plt.title('Person Correlation of Features', y=1.05, size=15)\n",
        "\n",
        "correlation_heatmap(df)"
      ],
      "metadata": {
        "colab": {
          "base_uri": "https://localhost:8080/",
          "height": 686
        },
        "id": "dNA66yiUAkEF",
        "outputId": "b9666c4e-a76d-430a-b961-89ef8af71b0a"
      },
      "execution_count": 163,
      "outputs": [
        {
          "output_type": "display_data",
          "data": {
            "text/plain": [
              "<Figure size 1008x864 with 2 Axes>"
            ],
            "image/png": "[encoded data removed]"
          },
          "metadata": {
            "needs_background": "light"
          }
        }
      ]
    },
    {
      "cell_type": "markdown",
      "source": [
        "##**4. Multivariate Visualizations**"
      ],
      "metadata": {
        "id": "s7v9dEnhGJ4q"
      }
    },
    {
      "cell_type": "code",
      "source": [
        "sns.barplot(\n",
        "    x=\"income\", \n",
        "    y=\"workclass\", \n",
        "    data=df, \n",
        "    estimator=np.sum, \n",
        "    ci=None)\n",
        "plt.xticks(rotation= 45, fontsize = 12, fontweight = 'bold')\n",
        "plt.yticks(fontsize = 12, fontweight= \"bold\")\n",
        "plt.xlabel('Income',fontweight='bold', fontsize='15')\n",
        "plt.ylabel('Workclass',fontweight='bold', fontsize='12')\n",
        "plt.title('Income by Workclass',fontweight='bold', color = 'Black', fontsize='25');"
      ],
      "metadata": {
        "colab": {
          "base_uri": "https://localhost:8080/",
          "height": 322
        },
        "id": "wBi7zNuvoUVz",
        "outputId": "114d5f5d-c5b3-4e1c-91d4-93cb25140911"
      },
      "execution_count": 193,
      "outputs": [
        {
          "output_type": "display_data",
          "data": {
            "text/plain": [
              "<Figure size 432x288 with 1 Axes>"
            ],
            "image/png": "[encoded data removed]"
          },
          "metadata": {
            "needs_background": "light"
          }
        }
      ]
    },
    {
      "cell_type": "markdown",
      "source": [
        "The first Trend that is recognized is Income by Workclass \n",
        "\n",
        "- The trend is that most people are choosing to work in the Private Sector. This is most likely because the other sectors income is much lower. \n",
        "- The higest income is gained in the Private Sector.\n",
        "- Government Job do not appear to pay more than the Private Sector.\n"
      ],
      "metadata": {
        "id": "1xO7wUJpqXY1"
      }
    },
    {
      "cell_type": "code",
      "source": [
        "sns.barplot(\n",
        "    x=\"income\", \n",
        "    y=\"race\", \n",
        "    data=df, \n",
        "    estimator=np.sum, \n",
        "    ci=None)\n",
        "plt.xticks(rotation= 45, fontsize = 12, fontweight = 'bold')\n",
        "plt.yticks(fontsize = 12, fontweight= \"bold\")\n",
        "plt.xlabel('Income',fontweight='bold', fontsize='15')\n",
        "plt.ylabel('Race',fontweight='bold', fontsize='12')\n",
        "plt.title('Income by Ethnicity',fontweight='bold', color = 'Black', fontsize='25');"
      ],
      "metadata": {
        "colab": {
          "base_uri": "https://localhost:8080/",
          "height": 325
        },
        "id": "OwqDTWT9YLFS",
        "outputId": "cbde031e-4792-41cf-ac76-4fe9176bf491"
      },
      "execution_count": 174,
      "outputs": [
        {
          "output_type": "display_data",
          "data": {
            "text/plain": [
              "<Figure size 432x288 with 1 Axes>"
            ],
            "image/png": "[encoded data removed]"
          },
          "metadata": {
            "needs_background": "light"
          }
        }
      ]
    },
    {
      "cell_type": "markdown",
      "source": [
        "The Second trend is ethnicity to income ratio\n",
        "- The trend in this data set is that Whites are earning a higher income than any other ethnicity.\n",
        "- There is a large disparity between whites and other ethnicities. \n",
        "- Black's have a higher income than Amer-Indian-Eskimo"
      ],
      "metadata": {
        "id": "zB_F7EtgeeZs"
      }
    },
    {
      "cell_type": "code",
      "source": [
        "sns.catplot(data=df, x='income', y='age', kind= 'box', aspect=2)\n",
        "plt.title('Relationship between Income and Age', fontweight = 'bold', color = 'Black', fontsize ='20')\n",
        "plt.xticks(fontsize = 12, fontweight = 'bold')\n",
        "plt.yticks(fontsize = 12, fontweight= \"bold\")\n",
        "plt.xlabel('Income',fontweight='bold', fontsize='12')\n",
        "plt.ylabel('Race',fontweight='bold', fontsize='12')\n",
        "plt.show()"
      ],
      "metadata": {
        "colab": {
          "base_uri": "https://localhost:8080/",
          "height": 394
        },
        "id": "lE7ijPpEIlN5",
        "outputId": "1f3e39a2-ac11-4ce3-be06-cbc03b505b0f"
      },
      "execution_count": 175,
      "outputs": [
        {
          "output_type": "display_data",
          "data": {
            "text/plain": [
              "<Figure size 720x360 with 1 Axes>"
            ],
            "image/png": "[encoded data removed]"
          },
          "metadata": {
            "needs_background": "light"
          }
        }
      ]
    },
    {
      "cell_type": "markdown",
      "source": [
        "- Most of the people having income less than or equal to 50K are between age 25-45\n",
        "- Most of the people having income more than 50K are between age 37-50"
      ],
      "metadata": {
        "id": "HGBHEWjRIoYt"
      }
    }
  ]
}